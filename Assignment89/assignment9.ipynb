{
 "cells": [
  {
   "cell_type": "code",
   "execution_count": 1,
   "id": "9bba8ad0",
   "metadata": {},
   "outputs": [],
   "source": [
    "import pandas as pd\n",
    "import numpy as np\n",
    "import seaborn as sns\n",
    "from sklearn.neighbors import KNeighborsClassifier\n",
    "from sklearn.tree import DecisionTreeClassifier\n",
    "from sklearn.linear_model import LogisticRegression\n",
    "from sklearn.ensemble import RandomForestClassifier\n",
    "from sklearn.cluster import DBSCAN\n",
    "from sklearn.cluster import KMeans\n",
    "import matplotlib.pyplot as plt"
   ]
  },
  {
   "cell_type": "code",
   "execution_count": 2,
   "id": "62b55979",
   "metadata": {},
   "outputs": [
    {
     "name": "stdout",
     "output_type": "stream",
     "text": [
      "<class 'pandas.core.frame.DataFrame'>\n",
      "RangeIndex: 8124 entries, 0 to 8123\n",
      "Data columns (total 23 columns):\n",
      " #   Column                    Non-Null Count  Dtype \n",
      "---  ------                    --------------  ----- \n",
      " 0   poisonous                 8124 non-null   object\n",
      " 1   cap-shape                 8124 non-null   object\n",
      " 2   cap-surface               8124 non-null   object\n",
      " 3   cap-color                 8124 non-null   object\n",
      " 4   bruises                   8124 non-null   object\n",
      " 5   odor                      8124 non-null   object\n",
      " 6   gill-attachment           8124 non-null   object\n",
      " 7   gill-spacing              8124 non-null   object\n",
      " 8   gill-size                 8124 non-null   object\n",
      " 9   gill-color                8124 non-null   object\n",
      " 10  stalk-shape               8124 non-null   object\n",
      " 11  stalk-root                8124 non-null   object\n",
      " 12  stalk-surface-above-ring  8124 non-null   object\n",
      " 13  stalk-surface-below-ring  8124 non-null   object\n",
      " 14  stalk-color-above-ring    8124 non-null   object\n",
      " 15  stalk-color-below-ring    8124 non-null   object\n",
      " 16  veil-type                 8124 non-null   object\n",
      " 17  veil-color                8124 non-null   object\n",
      " 18  ring-number               8124 non-null   object\n",
      " 19  ring-type                 8124 non-null   object\n",
      " 20  spore-print-color         8124 non-null   object\n",
      " 21  population                8124 non-null   object\n",
      " 22  habitat                   8124 non-null   object\n",
      "dtypes: object(23)\n",
      "memory usage: 1.4+ MB\n",
      "None\n",
      "  poisonous cap-shape cap-surface cap-color bruises odor gill-attachment  \\\n",
      "0         p         x           s         n       t    p               f   \n",
      "1         e         x           s         y       t    a               f   \n",
      "2         e         b           s         w       t    l               f   \n",
      "3         p         x           y         w       t    p               f   \n",
      "4         e         x           s         g       f    n               f   \n",
      "\n",
      "  gill-spacing gill-size gill-color  ... stalk-surface-below-ring  \\\n",
      "0            c         n          k  ...                        s   \n",
      "1            c         b          k  ...                        s   \n",
      "2            c         b          n  ...                        s   \n",
      "3            c         n          n  ...                        s   \n",
      "4            w         b          k  ...                        s   \n",
      "\n",
      "  stalk-color-above-ring stalk-color-below-ring veil-type veil-color  \\\n",
      "0                      w                      w         p          w   \n",
      "1                      w                      w         p          w   \n",
      "2                      w                      w         p          w   \n",
      "3                      w                      w         p          w   \n",
      "4                      w                      w         p          w   \n",
      "\n",
      "  ring-number ring-type spore-print-color population habitat  \n",
      "0           o         p                 k          s       u  \n",
      "1           o         p                 n          n       g  \n",
      "2           o         p                 n          n       m  \n",
      "3           o         p                 k          s       u  \n",
      "4           o         e                 n          a       g  \n",
      "\n",
      "[5 rows x 23 columns]\n"
     ]
    }
   ],
   "source": [
    "# data import\n",
    "data = pd.read_csv(\"./mushroom/agaricus-lepiota.data\", sep=\",\",  header=None)\n",
    "cols = [\"poisonous\", \"cap-shape\", \"cap-surface\", \"cap-color\", \"bruises\", \"odor\", \"gill-attachment\", \"gill-spacing\",\n",
    "           \"gill-size\", \"gill-color\", \"stalk-shape\", \"stalk-root\", \"stalk-surface-above-ring\", \"stalk-surface-below-ring\",\n",
    "           \"stalk-color-above-ring\", \"stalk-color-below-ring\", \"veil-type\", \"veil-color\", \"ring-number\", \"ring-type\", \n",
    "           \"spore-print-color\", \"population\", \"habitat\"]\n",
    "data.columns = cols\n",
    "print(data.info())\n",
    "print(data.head())"
   ]
  },
  {
   "cell_type": "markdown",
   "id": "c8fba98c",
   "metadata": {},
   "source": [
    "     1. cap-shape:                bell=b,conical=c,convex=x,flat=f, knobbed=k,sunken=s\n",
    "     2. cap-surface:              fibrous=f,grooves=g,scaly=y,smooth=s\n",
    "     3. cap-color:                brown=n,buff=b,cinnamon=c,gray=g,green=r, pink=p,purple=u,red=e,white=w,yellow=y\n",
    "     4. bruises?:                 bruises=t,no=f\n",
    "     5. odor:                     almond=a,anise=l,creosote=c,fishy=y,foul=f, musty=m,none=n,pungent=p,spicy=s\n",
    "     6. gill-attachment:          attached=a,descending=d,free=f,notched=n\n",
    "     7. gill-spacing:             close=c,crowded=w,distant=d\n",
    "     8. gill-size:                broad=b,narrow=n\n",
    "     9. gill-color:               black=k,brown=n,buff=b,chocolate=h,gray=g, green=r,orange=o,pink=p,purple=u,red=e, white=w,yellow=y\n",
    "    10. stalk-shape:              enlarging=e,tapering=t\n",
    "    11. stalk-root:               bulbous=b,club=c,cup=u,equal=e, rhizomorphs=z,rooted=r,missing=?\n",
    "    12. stalk-surface-above-ring: fibrous=f,scaly=y,silky=k,smooth=s\n",
    "    13. stalk-surface-below-ring: fibrous=f,scaly=y,silky=k,smooth=s\n",
    "    14. stalk-color-above-ring:   brown=n,buff=b,cinnamon=c,gray=g,orange=o, pink=p,red=e,white=w,yellow=y\n",
    "    15. stalk-color-below-ring:   brown=n,buff=b,cinnamon=c,gray=g,orange=o, pink=p,red=e,white=w,yellow=y\n",
    "    16. veil-type:                partial=p,universal=u\n",
    "    17. veil-color:               brown=n,orange=o,white=w,yellow=y\n",
    "    18. ring-number:              none=n,one=o,two=t\n",
    "    19. ring-type:                cobwebby=c,evanescent=e,flaring=f,large=l, none=n,pendant=p,sheathing=s,zone=z\n",
    "    20. spore-print-color:        black=k,brown=n,buff=b,chocolate=h,green=r, orange=o,purple=u,white=w,yellow=y\n",
    "    21. population:               abundant=a,clustered=c,numerous=n, scattered=s,several=v,solitary=y\n",
    "    22. habitat:                  grasses=g,leaves=l,meadows=m,paths=p, urban=u,waste=w,woods=d"
   ]
  },
  {
   "cell_type": "code",
   "execution_count": 3,
   "id": "3c9723a1",
   "metadata": {},
   "outputs": [
    {
     "name": "stdout",
     "output_type": "stream",
     "text": [
      "1. Title: Mushroom Database\n",
      "\n",
      "\n",
      "\n",
      "2. Sources: \n",
      "\n",
      "    (a) Mushroom records drawn from The Audubon Society Field Guide to North\n",
      "\n",
      "        American Mushrooms (1981). G. H. Lincoff (Pres.), New York: Alfred\n",
      "\n",
      "        A. Knopf\n",
      "\n",
      "    (b) Donor: Jeff Schlimmer (Jeffrey.Schlimmer@a.gp.cs.cmu.edu)\n",
      "\n",
      "    (c) Date: 27 April 1987\n",
      "\n",
      "\n",
      "\n",
      "3. Past Usage:\n",
      "\n",
      "    1. Schlimmer,J.S. (1987). Concept Acquisition Through Representational\n",
      "\n",
      "       Adjustment (Technical Report 87-19).  Doctoral disseration, Department\n",
      "\n",
      "       of Information and Computer Science, University of California, Irvine.\n",
      "\n",
      "       --- STAGGER: asymptoted to 95% classification accuracy after reviewing\n",
      "\n",
      "           1000 instances.\n",
      "\n",
      "    2. Iba,W., Wogulis,J., & Langley,P. (1988).  Trading off Simplicity\n",
      "\n",
      "       and Coverage in Incremental Concept Learning. In Proceedings of \n",
      "\n",
      "       the 5th International Conference on Machine Learning, 73-79.\n",
      "\n",
      "       Ann Arbor, Michigan: Morgan Kaufmann.  \n",
      "\n",
      "       -- approximately the same results with their HILLARY algorithm    \n",
      "\n",
      "    3. In the following references a set of rules (given below) were\n",
      "\n",
      "\tlearned for this data set which may serve as a point of\n",
      "\n",
      "\tcomparison for other researchers.\n",
      "\n",
      "\n",
      "\n",
      "\tDuch W, Adamczak R, Grabczewski K (1996) Extraction of logical rules\n",
      "\n",
      "\tfrom training data using backpropagation networks, in: Proc. of the\n",
      "\n",
      "\tThe 1st Online Workshop on Soft Computing, 19-30.Aug.1996, pp. 25-30,\n",
      "\n",
      "\tavailable on-line at: http://www.bioele.nuee.nagoya-u.ac.jp/wsc1/\n",
      "\n",
      "\n",
      "\n",
      "\tDuch W, Adamczak R, Grabczewski K, Ishikawa M, Ueda H, Extraction of\n",
      "\n",
      "\tcrisp logical rules using constrained backpropagation networks -\n",
      "\n",
      "\tcomparison of two new approaches, in: Proc. of the European Symposium\n",
      "\n",
      "\ton Artificial Neural Networks (ESANN'97), Bruge, Belgium 16-18.4.1997,\n",
      "\n",
      "\tpp. xx-xx\n",
      "\n",
      "\n",
      "\n",
      "\tWlodzislaw Duch, Department of Computer Methods, Nicholas Copernicus\n",
      "\n",
      "\tUniversity, 87-100 Torun, Grudziadzka 5, Poland\n",
      "\n",
      "\te-mail: duch@phys.uni.torun.pl\n",
      "\n",
      "\tWWW     http://www.phys.uni.torun.pl/kmk/\n",
      "\n",
      "\t\n",
      "\n",
      "\tDate: Mon, 17 Feb 1997 13:47:40 +0100\n",
      "\n",
      "\tFrom: Wlodzislaw Duch <duch@phys.uni.torun.pl>\n",
      "\n",
      "\tOrganization: Dept. of Computer Methods, UMK\n",
      "\n",
      "\n",
      "\n",
      "\tI have attached a file containing logical rules for mushrooms.\n",
      "\n",
      "\tIt should be helpful for other people since only in the last year I\n",
      "\n",
      "\thave seen about 10 papers analyzing this dataset and obtaining quite\n",
      "\n",
      "\tcomplex rules. We will try to contribute other results later.\n",
      "\n",
      "\n",
      "\n",
      "\tWith best regards, Wlodek Duch\n",
      "\n",
      "\t________________________________________________________________\n",
      "\n",
      "\n",
      "\n",
      "\tLogical rules for the mushroom data sets.\n",
      "\n",
      "\n",
      "\n",
      "\tLogical rules given below seem to be the simplest possible for the\n",
      "\n",
      "\tmushroom dataset and therefore should be treated as benchmark results.\n",
      "\n",
      "\n",
      "\n",
      "\tDisjunctive rules for poisonous mushrooms, from most general\n",
      "\n",
      "\tto most specific:\n",
      "\n",
      "\n",
      "\n",
      "\tP_1) odor=NOT(almond.OR.anise.OR.none)\n",
      "\n",
      "\t     120 poisonous cases missed, 98.52% accuracy\n",
      "\n",
      "\n",
      "\n",
      "\tP_2) spore-print-color=green\n",
      "\n",
      "\t     48 cases missed, 99.41% accuracy\n",
      "\n",
      "         \n",
      "\n",
      "\tP_3) odor=none.AND.stalk-surface-below-ring=scaly.AND.\n",
      "\n",
      "\t          (stalk-color-above-ring=NOT.brown) \n",
      "\n",
      "\t     8 cases missed, 99.90% accuracy\n",
      "\n",
      "         \n",
      "\n",
      "\tP_4) habitat=leaves.AND.cap-color=white\n",
      "\n",
      "\t         100% accuracy     \n",
      "\n",
      "\n",
      "\n",
      "\tRule P_4) may also be\n",
      "\n",
      "\n",
      "\n",
      "\tP_4') population=clustered.AND.cap_color=white\n",
      "\n",
      "\n",
      "\n",
      "\tThese rule involve 6 attributes (out of 22). Rules for edible\n",
      "\n",
      "\tmushrooms are obtained as negation of the rules given above, for\n",
      "\n",
      "\texample the rule:\n",
      "\n",
      "\n",
      "\n",
      "\todor=(almond.OR.anise.OR.none).AND.spore-print-color=NOT.green\n",
      "\n",
      "\n",
      "\n",
      "\tgives 48 errors, or 99.41% accuracy on the whole dataset.\n",
      "\n",
      "\n",
      "\n",
      "\tSeveral slightly more complex variations on these rules exist,\n",
      "\n",
      "\tinvolving other attributes, such as gill_size, gill_spacing,\n",
      "\n",
      "\tstalk_surface_above_ring, but the rules given above are the simplest\n",
      "\n",
      "\twe have found.\n",
      "\n",
      "\n",
      "\n",
      "\n",
      "\n",
      "4. Relevant Information:\n",
      "\n",
      "    This data set includes descriptions of hypothetical samples\n",
      "\n",
      "    corresponding to 23 species of gilled mushrooms in the Agaricus and\n",
      "\n",
      "    Lepiota Family (pp. 500-525).  Each species is identified as\n",
      "\n",
      "    definitely edible, definitely poisonous, or of unknown edibility and\n",
      "\n",
      "    not recommended.  This latter class was combined with the poisonous\n",
      "\n",
      "    one.  The Guide clearly states that there is no simple rule for\n",
      "\n",
      "    determining the edibility of a mushroom; no rule like ``leaflets\n",
      "\n",
      "    three, let it be'' for Poisonous Oak and Ivy.\n",
      "\n",
      "\n",
      "\n",
      "5. Number of Instances: 8124\n",
      "\n",
      "\n",
      "\n",
      "6. Number of Attributes: 22 (all nominally valued)\n",
      "\n",
      "\n",
      "\n",
      "7. Attribute Information: (classes: edible=e, poisonous=p)\n",
      "\n",
      "     1. cap-shape:                bell=b,conical=c,convex=x,flat=f,\n",
      "\n",
      "                                  knobbed=k,sunken=s\n",
      "\n",
      "     2. cap-surface:              fibrous=f,grooves=g,scaly=y,smooth=s\n",
      "\n",
      "     3. cap-color:                brown=n,buff=b,cinnamon=c,gray=g,green=r,\n",
      "\n",
      "                                  pink=p,purple=u,red=e,white=w,yellow=y\n",
      "\n",
      "     4. bruises?:                 bruises=t,no=f\n",
      "\n",
      "     5. odor:                     almond=a,anise=l,creosote=c,fishy=y,foul=f,\n",
      "\n",
      "                                  musty=m,none=n,pungent=p,spicy=s\n",
      "\n",
      "     6. gill-attachment:          attached=a,descending=d,free=f,notched=n\n",
      "\n",
      "     7. gill-spacing:             close=c,crowded=w,distant=d\n",
      "\n",
      "     8. gill-size:                broad=b,narrow=n\n",
      "\n",
      "     9. gill-color:               black=k,brown=n,buff=b,chocolate=h,gray=g,\n",
      "\n",
      "                                  green=r,orange=o,pink=p,purple=u,red=e,\n",
      "\n",
      "                                  white=w,yellow=y\n",
      "\n",
      "    10. stalk-shape:              enlarging=e,tapering=t\n",
      "\n",
      "    11. stalk-root:               bulbous=b,club=c,cup=u,equal=e,\n",
      "\n",
      "                                  rhizomorphs=z,rooted=r,missing=?\n",
      "\n",
      "    12. stalk-surface-above-ring: fibrous=f,scaly=y,silky=k,smooth=s\n",
      "\n",
      "    13. stalk-surface-below-ring: fibrous=f,scaly=y,silky=k,smooth=s\n",
      "\n",
      "    14. stalk-color-above-ring:   brown=n,buff=b,cinnamon=c,gray=g,orange=o,\n",
      "\n",
      "                                  pink=p,red=e,white=w,yellow=y\n",
      "\n",
      "    15. stalk-color-below-ring:   brown=n,buff=b,cinnamon=c,gray=g,orange=o,\n",
      "\n",
      "                                  pink=p,red=e,white=w,yellow=y\n",
      "\n",
      "    16. veil-type:                partial=p,universal=u\n",
      "\n",
      "    17. veil-color:               brown=n,orange=o,white=w,yellow=y\n",
      "\n",
      "    18. ring-number:              none=n,one=o,two=t\n",
      "\n",
      "    19. ring-type:                cobwebby=c,evanescent=e,flaring=f,large=l,\n",
      "\n",
      "                                  none=n,pendant=p,sheathing=s,zone=z\n",
      "\n",
      "    20. spore-print-color:        black=k,brown=n,buff=b,chocolate=h,green=r,\n",
      "\n",
      "                                  orange=o,purple=u,white=w,yellow=y\n",
      "\n",
      "    21. population:               abundant=a,clustered=c,numerous=n,\n",
      "\n",
      "                                  scattered=s,several=v,solitary=y\n",
      "\n",
      "    22. habitat:                  grasses=g,leaves=l,meadows=m,paths=p,\n",
      "\n",
      "                                  urban=u,waste=w,woods=d\n",
      "\n",
      "\n",
      "\n",
      "8. Missing Attribute Values: 2480 of them (denoted by \"?\"), all for\n",
      "\n",
      "   attribute #11.\n",
      "\n",
      "\n",
      "\n",
      "9. Class Distribution: \n",
      "\n",
      "    --    edible: 4208 (51.8%)\n",
      "\n",
      "    -- poisonous: 3916 (48.2%)\n",
      "\n",
      "    --     total: 8124 instances\n",
      "\n"
     ]
    }
   ],
   "source": [
    "with open(\"./mushroom/agaricus-lepiota.names\") as f:\n",
    "          for line in f.readlines():\n",
    "            print(line)"
   ]
  },
  {
   "cell_type": "markdown",
   "id": "fc6e6eea",
   "metadata": {},
   "source": [
    "There are 4 filters with at least 95% accuracy to classify poisonous mushrooms: \n",
    "* odor=NOT(almond.OR.anise.OR.none)\n",
    "* spore-print-color=green\n",
    "* odor=none.AND.stalk-surface-below-ring=scaly.AND.stalk-color-above-ring=NOT.brown\n",
    "* habitat=leaves.AND.cap-color=white or population=clustered.AND.cap_color=white\n",
    "\n",
    "But the label for poisonous has already been predicted, which can be used to filter out any poisonous mushroom. But this is not a required condition, as the conditions are: \n",
    "* Visually appealing\n",
    "* Pleasingly smelling\n",
    "* Preferably non-toxic \n",
    "\n",
    "So first, the columns that are not relevant for visual appeal, pleasant smell, and toxicity need to be filtered out. "
   ]
  },
  {
   "cell_type": "markdown",
   "id": "0720c038",
   "metadata": {},
   "source": [
    "## Visual appeal exclusion\n",
    "* odor: The odor of mushrooms is not relevant for the visual appeal, but it will be relevant for the pleasant smell\n",
    "* gill columns: First, what is a gill. Mushroom gills are the thin, papery structures that hang vertically under the cap. As visual appeal is subjective, the gill attachment, spacing, size, or color will not be considered, as they are barely visible. \n",
    "* stalk columns: the stalk, or stem of the mushroom, is a relevant category for visual appeal, as it is a large part of the mushroom\n",
    "* Veil: Thin membrane that covers the cap and stalk of an immature mushroom. Immature mushrooms are sometimes used in cooking, such as button mushrooms. For the purposes of visual appeal, type and color of the veil will be relevant\n",
    "* Ring: Ring-like or collar-like structure sometimes found on the stipe of some species of mushrooms. Relevant for visual appeal.\n",
    "* Spore-print-color: Relevant\n",
    "* population: irrelevant\n",
    "* habitat: irrelevant\n",
    "\n",
    "Conclusion: The columns that will be kept for visual appeal are: \n",
    "* cap-shape\n",
    "* cap-surface\n",
    "* cap-color\n",
    "* stalk-shape\n",
    "* stalk-root\n",
    "* stalk-surface-above-ring\n",
    "* stalk-surface-below-ring\n",
    "* stalk-color-above-ring\n",
    "* stalk-color-below-ring\n",
    "* veil-type\n",
    "* veil-color\n",
    "* ring-number\n",
    "* ring-type\n",
    "* spore-print-color"
   ]
  },
  {
   "cell_type": "code",
   "execution_count": 4,
   "id": "b6bebf9b",
   "metadata": {},
   "outputs": [
    {
     "data": {
      "image/png": "[encoded data removed]",
      "text/plain": [
       "<Figure size 432x288 with 1 Axes>"
      ]
     },
     "metadata": {
      "needs_background": "light"
     },
     "output_type": "display_data"
    }
   ],
   "source": [
    "# cap-shape\n",
    "# bell=b,conical=c,convex=x,flat=f, knobbed=k,sunken=s\n",
    "cap_shape = data[\"cap-shape\"].str.replace(\"b\", \"bell\")\n",
    "cap_shape = cap_shape.str.replace(\"c\", \"conical\")\n",
    "cap_shape = cap_shape.str.replace(\"x\", \"convex\")\n",
    "cap_shape = cap_shape.str.replace(\"f\", \"flat\")\n",
    "cap_shape = cap_shape.str.replace(\"k\", \"knobbed\")\n",
    "cap_shape = cap_shape.str.replace(\"s\", \"sunken\")\n",
    "\n",
    "sns.histplot(data=cap_shape, x=cap_shape, hue=data[\"poisonous\"], multiple=\"stack\")\n",
    "plt.savefig(\"Cap-shape-poison-distribution.png\")"
   ]
  },
  {
   "cell_type": "code",
   "execution_count": 5,
   "id": "cfd97dee",
   "metadata": {},
   "outputs": [
    {
     "data": {
      "image/png": "[encoded data removed]",
      "text/plain": [
       "<Figure size 432x288 with 1 Axes>"
      ]
     },
     "metadata": {
      "needs_background": "light"
     },
     "output_type": "display_data"
    }
   ],
   "source": [
    "# cap-surface\n",
    "# fibrous=f,grooves=g,scaly=y,smooth=s\n",
    "cap_surface = data[\"cap-surface\"].str.replace(\"g\", \"grooves\")\n",
    "cap_surface = cap_surface.str.replace(\"y\", \"scaly\")\n",
    "cap_surface = cap_surface.str.replace(\"s\", \"smooth\")\n",
    "cap_surface = cap_surface.str.replace(\"f\", \"fibrous\")\n",
    "\n",
    "sns.histplot(data=cap_surface, x=cap_surface, hue=data[\"poisonous\"], multiple=\"stack\")\n",
    "plt.savefig(\"Cap-surface-poison-distribution.png\")"
   ]
  },
  {
   "cell_type": "code",
   "execution_count": 6,
   "id": "430a3d76",
   "metadata": {},
   "outputs": [
    {
     "data": {
      "image/png": "[encoded data removed]",
      "text/plain": [
       "<Figure size 432x288 with 1 Axes>"
      ]
     },
     "metadata": {
      "needs_background": "light"
     },
     "output_type": "display_data"
    }
   ],
   "source": [
    "# cap-color\n",
    "# brown=n,buff=b,cinnamon=c,gray=g,green=r, pink=p,purple=u,red=e,white=w,yellow=y\n",
    "cap_color = data[\"cap-color\"].str.replace(\"n\", \"brown\")\n",
    "cap_color = cap_color.str.replace(\"c\", \"cinnamon\")\n",
    "cap_color = cap_color.str.replace(\"g\", \"gray\")\n",
    "cap_color = cap_color.str.replace(\"r\", \"green\")\n",
    "cap_color = cap_color.str.replace(\"p\", \"pink\")\n",
    "cap_color = cap_color.str.replace(\"u\", \"purple\")\n",
    "cap_color = cap_color.str.replace(\"e\", \"red\")\n",
    "cap_color = cap_color.str.replace(\"w\", \"white\")\n",
    "cap_color = cap_color.str.replace(\"y\", \"yellow\")\n",
    "\n",
    "sns.histplot(data=cap_color, x=cap_color, hue=data[\"poisonous\"], multiple=\"stack\")\n",
    "plt.savefig(\"Cap-color-poison-distribution.png\")"
   ]
  },
  {
   "cell_type": "code",
   "execution_count": 7,
   "id": "e344eadf",
   "metadata": {},
   "outputs": [
    {
     "data": {
      "image/png": "[encoded data removed]",
      "text/plain": [
       "<Figure size 432x288 with 1 Axes>"
      ]
     },
     "metadata": {
      "needs_background": "light"
     },
     "output_type": "display_data"
    }
   ],
   "source": [
    "# Stalk-shape\n",
    "# enlarging = e, tapering = t\n",
    "stalk_shape = data[\"stalk-shape\"].str.replace(\"e\", \"enlarging\")\n",
    "stalk_shape = stalk_shape.str.replace(\"t\", \"tapering\")\n",
    "\n",
    "sns.histplot(data=stalk_shape, x=stalk_shape, hue=data[\"poisonous\"], multiple=\"stack\")\n",
    "plt.savefig(\"Stalk-shape-poison-distribution.png\")"
   ]
  },
  {
   "cell_type": "code",
   "execution_count": 8,
   "id": "7841799f",
   "metadata": {},
   "outputs": [
    {
     "data": {
      "image/png": "[encoded data removed]",
      "text/plain": [
       "<Figure size 432x288 with 1 Axes>"
      ]
     },
     "metadata": {
      "needs_background": "light"
     },
     "output_type": "display_data"
    }
   ],
   "source": [
    "# Stalk-root\n",
    "# bulbous=b,club=c,cup=u,equal=e, rhizomorphs=z,rooted=r,missing=?\n",
    "stalk_root = data[\"stalk-root\"].str.replace(\"b\", \"bulbous\")\n",
    "stalk_root = stalk_root.str.replace(\"c\", \"club\")\n",
    "stalk_root = stalk_root.str.replace(\"e\", \"equal\")\n",
    "stalk_root = stalk_root.str.replace(\"z\", \"rhizomorphs\")\n",
    "stalk_root = stalk_root.str.replace(\"r\", \"rooted\")\n",
    "stalk_root = stalk_root.str.replace(\"?\", \"missing\")\n",
    "\n",
    "sns.histplot(data=stalk_root, x=stalk_root, hue=data[\"poisonous\"], multiple=\"stack\")\n",
    "plt.savefig(\"Stalk-root-poison-distribution.png\")"
   ]
  },
  {
   "cell_type": "code",
   "execution_count": 9,
   "id": "20d45dd3",
   "metadata": {},
   "outputs": [
    {
     "data": {
      "image/png": "[encoded data removed]",
      "text/plain": [
       "<Figure size 432x288 with 1 Axes>"
      ]
     },
     "metadata": {
      "needs_background": "light"
     },
     "output_type": "display_data"
    }
   ],
   "source": [
    "# stalk-surface-above-ring\n",
    "# fibrous=f,scaly=y,silky=k,smooth=s\n",
    "stalk_s_a_r = data[\"stalk-surface-above-ring\"].str.replace(\"f\", \"fibrous\")\n",
    "stalk_s_a_r = stalk_s_a_r.str.replace(\"y\", \"scaly\")\n",
    "stalk_s_a_r = stalk_s_a_r.str.replace(\"k\", \"silky\")\n",
    "stalk_s_a_r = stalk_s_a_r.str.replace(\"s\", \"smooth\")\n",
    "\n",
    "sns.histplot(data=stalk_s_a_r, x=stalk_s_a_r, hue=data[\"poisonous\"], multiple=\"stack\")\n",
    "plt.savefig(\"Stalk-surface-poison-distribution.png\")"
   ]
  },
  {
   "cell_type": "code",
   "execution_count": 10,
   "id": "7a09e5ad",
   "metadata": {},
   "outputs": [
    {
     "data": {
      "text/plain": [
       "<Axes: xlabel='stalk-surface-below-ring', ylabel='Count'>"
      ]
     },
     "execution_count": 10,
     "metadata": {},
     "output_type": "execute_result"
    },
    {
     "data": {
      "image/png": "[encoded data removed]",
      "text/plain": [
       "<Figure size 432x288 with 1 Axes>"
      ]
     },
     "metadata": {
      "needs_background": "light"
     },
     "output_type": "display_data"
    }
   ],
   "source": [
    "# stalk-surface-below-ring\n",
    "# fibrous=f,scaly=y,silky=k,smooth=s\n",
    "stalk_s_b_r = data[\"stalk-surface-below-ring\"].str.replace(\"f\", \"fibrous\")\n",
    "stalk_s_b_r = stalk_s_b_r.str.replace(\"y\", \"scaly\")\n",
    "stalk_s_b_r = stalk_s_b_r.str.replace(\"k\", \"silky\")\n",
    "stalk_s_b_r = stalk_s_b_r.str.replace(\"s\", \"smooth\")\n",
    "\n",
    "sns.histplot(data=stalk_s_b_r, x=stalk_s_b_r, hue=data[\"poisonous\"], multiple=\"stack\")"
   ]
  },
  {
   "cell_type": "code",
   "execution_count": 11,
   "id": "d162778e",
   "metadata": {},
   "outputs": [
    {
     "data": {
      "image/png": "[encoded data removed]",
      "text/plain": [
       "<Figure size 432x288 with 1 Axes>"
      ]
     },
     "metadata": {
      "needs_background": "light"
     },
     "output_type": "display_data"
    }
   ],
   "source": [
    "# stalk-color-above-ring\n",
    "# brown=n,buff=b,cinnamon=c,gray=g,orange=o, pink=p,red=e,white=w,yellow=y\n",
    "stalk_c_a_r = data[\"stalk-color-above-ring\"].str.replace(\"n\", \"brown\")\n",
    "stalk_c_a_r = stalk_c_a_r.str.replace(\"b\", \"buff\")\n",
    "stalk_c_a_r = stalk_c_a_r.str.replace(\"c\", \"cinnamon\")\n",
    "stalk_c_a_r = stalk_c_a_r.str.replace(\"g\", \"gray\")\n",
    "stalk_c_a_r = stalk_c_a_r.str.replace(\"o\", \"orange\")\n",
    "stalk_c_a_r = stalk_c_a_r.str.replace(\"p\", \"pink\")\n",
    "stalk_c_a_r = stalk_c_a_r.str.replace(\"e\", \"red\")\n",
    "stalk_c_a_r = stalk_c_a_r.str.replace(\"w\", \"white\")\n",
    "stalk_c_a_r = stalk_c_a_r.str.replace(\"y\", \"yellow\")\n",
    "\n",
    "sns.histplot(data=stalk_c_a_r, x=stalk_c_a_r, hue=data[\"poisonous\"], multiple=\"stack\")\n",
    "plt.savefig(\"Stalk-color-poison-distribution.png\")"
   ]
  },
  {
   "cell_type": "code",
   "execution_count": 12,
   "id": "2b248aaa",
   "metadata": {},
   "outputs": [
    {
     "data": {
      "text/plain": [
       "<Axes: xlabel='stalk-color-below-ring', ylabel='Count'>"
      ]
     },
     "execution_count": 12,
     "metadata": {},
     "output_type": "execute_result"
    },
    {
     "data": {
      "image/png": "[encoded data removed]",
      "text/plain": [
       "<Figure size 432x288 with 1 Axes>"
      ]
     },
     "metadata": {
      "needs_background": "light"
     },
     "output_type": "display_data"
    }
   ],
   "source": [
    "# stalk-color-below-ring\n",
    "# brown=n,buff=b,cinnamon=c,gray=g,orange=o, pink=p,red=e,white=w,yellow=y\n",
    "stalk_c_b_r = data[\"stalk-color-below-ring\"].str.replace(\"n\", \"brown\")\n",
    "stalk_c_b_r = stalk_c_b_r.str.replace(\"b\", \"buff\")\n",
    "stalk_c_b_r = stalk_c_b_r.str.replace(\"c\", \"cinnamon\")\n",
    "stalk_c_b_r = stalk_c_b_r.str.replace(\"g\", \"gray\")\n",
    "stalk_c_b_r = stalk_c_b_r.str.replace(\"o\", \"orange\")\n",
    "stalk_c_b_r = stalk_c_b_r.str.replace(\"p\", \"pink\")\n",
    "stalk_c_b_r = stalk_c_b_r.str.replace(\"e\", \"red\")\n",
    "stalk_c_b_r = stalk_c_b_r.str.replace(\"w\", \"white\")\n",
    "stalk_c_b_r = stalk_c_b_r.str.replace(\"y\", \"yellow\")\n",
    "\n",
    "sns.histplot(data=stalk_c_b_r, x=stalk_c_b_r, hue=data[\"poisonous\"], multiple=\"stack\")"
   ]
  },
  {
   "cell_type": "code",
   "execution_count": 13,
   "id": "edc0fdc0",
   "metadata": {},
   "outputs": [
    {
     "data": {
      "image/png": "[encoded data removed]",
      "text/plain": [
       "<Figure size 432x288 with 1 Axes>"
      ]
     },
     "metadata": {
      "needs_background": "light"
     },
     "output_type": "display_data"
    }
   ],
   "source": [
    "# veil type\n",
    "# partial=p,universal=u\n",
    "veil_type = data[\"veil-type\"].str.replace(\"p\", \"partial\")\n",
    "veil_type = veil_type.str.replace(\"u\", \"universal\")\n",
    "\n",
    "sns.histplot(data=veil_type, x=veil_type, hue=data[\"poisonous\"], multiple=\"stack\")\n",
    "plt.savefig(\"Veil-type-poison-distribution.png\")"
   ]
  },
  {
   "cell_type": "code",
   "execution_count": 14,
   "id": "4b32d68a",
   "metadata": {},
   "outputs": [
    {
     "data": {
      "image/png": "[encoded data removed]",
      "text/plain": [
       "<Figure size 432x288 with 1 Axes>"
      ]
     },
     "metadata": {
      "needs_background": "light"
     },
     "output_type": "display_data"
    }
   ],
   "source": [
    "# veil color\n",
    "# brown=n,orange=o,white=w,yellow=y\n",
    "veil_color = data[\"veil-color\"].str.replace(\"n\", \"brown\")\n",
    "veil_color = veil_color.str.replace(\"o\", \"orange\")\n",
    "veil_color = veil_color.str.replace(\"w\", \"white\")\n",
    "veil_color = veil_color.str.replace(\"y\", \"yellow\")\n",
    "\n",
    "sns.histplot(data=veil_color, x=veil_color, hue=data[\"poisonous\"], multiple=\"stack\")\n",
    "plt.savefig(\"Veil-color-poison-distribution.png\")"
   ]
  },
  {
   "cell_type": "code",
   "execution_count": 15,
   "id": "17de3de4",
   "metadata": {},
   "outputs": [
    {
     "data": {
      "image/png": "[encoded data removed]",
      "text/plain": [
       "<Figure size 432x288 with 1 Axes>"
      ]
     },
     "metadata": {
      "needs_background": "light"
     },
     "output_type": "display_data"
    }
   ],
   "source": [
    "# ring number\n",
    "# none=n,one=o,two=t\n",
    "ring_number = data[\"ring-number\"].str.replace(\"n\", \"none\")\n",
    "ring_number = ring_number.str.replace(\"o\", \"one\")\n",
    "ring_number = ring_number.str.replace(\"t\", \"two\")\n",
    "\n",
    "sns.histplot(data=ring_number, x=ring_number, hue=data[\"poisonous\"], multiple=\"stack\")\n",
    "plt.savefig(\"Ring-number-poison-distribution.png\")"
   ]
  },
  {
   "cell_type": "code",
   "execution_count": 16,
   "id": "c99fadb3",
   "metadata": {},
   "outputs": [
    {
     "data": {
      "image/png": "[encoded data removed]",
      "text/plain": [
       "<Figure size 432x288 with 1 Axes>"
      ]
     },
     "metadata": {
      "needs_background": "light"
     },
     "output_type": "display_data"
    }
   ],
   "source": [
    "# ring-type\n",
    "# cobwebby=c,evanescent=e,flaring=f,large=l, none=n,pendant=p,sheathing=s,zone=z\n",
    "ring_type = data[\"ring-type\"].str.replace(\"c\", \"cobwebby\")\n",
    "ring_type = ring_type.str.replace(\"e\", \"evanescent\")\n",
    "ring_type = ring_type.str.replace(\"f\", \"flaring\")\n",
    "ring_type = ring_type.str.replace(\"l\", \"large\")\n",
    "ring_type = ring_type.str.replace(\"n\", \"none\")\n",
    "ring_type = ring_type.str.replace(\"p\", \"pendant\")\n",
    "ring_type = ring_type.str.replace(\"s\", \"sheathing\")\n",
    "ring_type = ring_type.str.replace(\"z\", \"zone\")\n",
    "\n",
    "sns.histplot(data=ring_type, x=ring_type, hue=data[\"poisonous\"], multiple=\"stack\")\n",
    "plt.savefig(\"Ring-type-poison-distribution.png\")"
   ]
  },
  {
   "cell_type": "code",
   "execution_count": 17,
   "id": "cfd5ff24",
   "metadata": {},
   "outputs": [
    {
     "data": {
      "image/png": "[encoded data removed]",
      "text/plain": [
       "<Figure size 432x288 with 1 Axes>"
      ]
     },
     "metadata": {
      "needs_background": "light"
     },
     "output_type": "display_data"
    }
   ],
   "source": [
    "# spore-print-color\n",
    "# black=k,brown=n,buff=b,chocolate=h,green=r, orange=o,purple=u,white=w,yellow=y\n",
    "spore_print_color = data[\"spore-print-color\"].str.replace(\"k\", \"black\")\n",
    "spore_print_color = spore_print_color.str.replace(\"n\", \"brown\")\n",
    "spore_print_color = spore_print_color.str.replace(\"b\", \"buff\")\n",
    "spore_print_color = spore_print_color.str.replace(\"h\", \"chocolate\")\n",
    "spore_print_color = spore_print_color.str.replace(\"r\", \"green\")\n",
    "spore_print_color = spore_print_color.str.replace(\"o\", \"orange\")\n",
    "spore_print_color = spore_print_color.str.replace(\"u\", \"purple\")\n",
    "spore_print_color = spore_print_color.str.replace(\"w\", \"white\")\n",
    "spore_print_color = spore_print_color.str.replace(\"y\", \"yellow\")\n",
    "\n",
    "sns.histplot(data=spore_print_color, x=spore_print_color, hue=data[\"poisonous\"], multiple=\"stack\")\n",
    "plt.savefig(\"Spore-print-color-poison-distribution.png\")"
   ]
  },
  {
   "cell_type": "code",
   "execution_count": 18,
   "id": "8a02b3d3",
   "metadata": {},
   "outputs": [
    {
     "name": "stdout",
     "output_type": "stream",
     "text": [
      "visually-pleasant\n",
      "0    7932\n",
      "1     192\n",
      "Name: count, dtype: int64\n"
     ]
    },
    {
     "data": {
      "text/html": [
       "<div>\n",
       "<style scoped>\n",
       "    .dataframe tbody tr th:only-of-type {\n",
       "        vertical-align: middle;\n",
       "    }\n",
       "\n",
       "    .dataframe tbody tr th {\n",
       "        vertical-align: top;\n",
       "    }\n",
       "\n",
       "    .dataframe thead th {\n",
       "        text-align: right;\n",
       "    }\n",
       "</style>\n",
       "<table border=\"1\" class=\"dataframe\">\n",
       "  <thead>\n",
       "    <tr style=\"text-align: right;\">\n",
       "      <th></th>\n",
       "      <th>poisonous</th>\n",
       "      <th>cap-shape</th>\n",
       "      <th>cap-surface</th>\n",
       "      <th>cap-color</th>\n",
       "      <th>bruises</th>\n",
       "      <th>odor</th>\n",
       "      <th>gill-attachment</th>\n",
       "      <th>gill-spacing</th>\n",
       "      <th>gill-size</th>\n",
       "      <th>gill-color</th>\n",
       "      <th>...</th>\n",
       "      <th>stalk-color-above-ring</th>\n",
       "      <th>stalk-color-below-ring</th>\n",
       "      <th>veil-type</th>\n",
       "      <th>veil-color</th>\n",
       "      <th>ring-number</th>\n",
       "      <th>ring-type</th>\n",
       "      <th>spore-print-color</th>\n",
       "      <th>population</th>\n",
       "      <th>habitat</th>\n",
       "      <th>visually-pleasant</th>\n",
       "    </tr>\n",
       "  </thead>\n",
       "  <tbody>\n",
       "    <tr>\n",
       "      <th>33</th>\n",
       "      <td>e</td>\n",
       "      <td>x</td>\n",
       "      <td>y</td>\n",
       "      <td>n</td>\n",
       "      <td>t</td>\n",
       "      <td>l</td>\n",
       "      <td>f</td>\n",
       "      <td>c</td>\n",
       "      <td>b</td>\n",
       "      <td>p</td>\n",
       "      <td>...</td>\n",
       "      <td>w</td>\n",
       "      <td>w</td>\n",
       "      <td>p</td>\n",
       "      <td>w</td>\n",
       "      <td>o</td>\n",
       "      <td>p</td>\n",
       "      <td>n</td>\n",
       "      <td>y</td>\n",
       "      <td>p</td>\n",
       "      <td>1</td>\n",
       "    </tr>\n",
       "    <tr>\n",
       "      <th>41</th>\n",
       "      <td>e</td>\n",
       "      <td>x</td>\n",
       "      <td>y</td>\n",
       "      <td>y</td>\n",
       "      <td>t</td>\n",
       "      <td>l</td>\n",
       "      <td>f</td>\n",
       "      <td>c</td>\n",
       "      <td>b</td>\n",
       "      <td>n</td>\n",
       "      <td>...</td>\n",
       "      <td>w</td>\n",
       "      <td>w</td>\n",
       "      <td>p</td>\n",
       "      <td>w</td>\n",
       "      <td>o</td>\n",
       "      <td>p</td>\n",
       "      <td>k</td>\n",
       "      <td>y</td>\n",
       "      <td>p</td>\n",
       "      <td>1</td>\n",
       "    </tr>\n",
       "    <tr>\n",
       "      <th>48</th>\n",
       "      <td>e</td>\n",
       "      <td>x</td>\n",
       "      <td>y</td>\n",
       "      <td>y</td>\n",
       "      <td>t</td>\n",
       "      <td>l</td>\n",
       "      <td>f</td>\n",
       "      <td>c</td>\n",
       "      <td>b</td>\n",
       "      <td>n</td>\n",
       "      <td>...</td>\n",
       "      <td>w</td>\n",
       "      <td>w</td>\n",
       "      <td>p</td>\n",
       "      <td>w</td>\n",
       "      <td>o</td>\n",
       "      <td>p</td>\n",
       "      <td>n</td>\n",
       "      <td>s</td>\n",
       "      <td>p</td>\n",
       "      <td>1</td>\n",
       "    </tr>\n",
       "    <tr>\n",
       "      <th>49</th>\n",
       "      <td>e</td>\n",
       "      <td>f</td>\n",
       "      <td>y</td>\n",
       "      <td>y</td>\n",
       "      <td>t</td>\n",
       "      <td>l</td>\n",
       "      <td>f</td>\n",
       "      <td>c</td>\n",
       "      <td>b</td>\n",
       "      <td>w</td>\n",
       "      <td>...</td>\n",
       "      <td>w</td>\n",
       "      <td>w</td>\n",
       "      <td>p</td>\n",
       "      <td>w</td>\n",
       "      <td>o</td>\n",
       "      <td>p</td>\n",
       "      <td>k</td>\n",
       "      <td>s</td>\n",
       "      <td>p</td>\n",
       "      <td>1</td>\n",
       "    </tr>\n",
       "    <tr>\n",
       "      <th>50</th>\n",
       "      <td>e</td>\n",
       "      <td>x</td>\n",
       "      <td>y</td>\n",
       "      <td>n</td>\n",
       "      <td>t</td>\n",
       "      <td>a</td>\n",
       "      <td>f</td>\n",
       "      <td>c</td>\n",
       "      <td>b</td>\n",
       "      <td>w</td>\n",
       "      <td>...</td>\n",
       "      <td>w</td>\n",
       "      <td>w</td>\n",
       "      <td>p</td>\n",
       "      <td>w</td>\n",
       "      <td>o</td>\n",
       "      <td>p</td>\n",
       "      <td>k</td>\n",
       "      <td>s</td>\n",
       "      <td>g</td>\n",
       "      <td>1</td>\n",
       "    </tr>\n",
       "  </tbody>\n",
       "</table>\n",
       "<p>5 rows × 24 columns</p>\n",
       "</div>"
      ],
      "text/plain": [
       "   poisonous cap-shape cap-surface cap-color bruises odor gill-attachment  \\\n",
       "33         e         x           y         n       t    l               f   \n",
       "41         e         x           y         y       t    l               f   \n",
       "48         e         x           y         y       t    l               f   \n",
       "49         e         f           y         y       t    l               f   \n",
       "50         e         x           y         n       t    a               f   \n",
       "\n",
       "   gill-spacing gill-size gill-color  ... stalk-color-above-ring  \\\n",
       "33            c         b          p  ...                      w   \n",
       "41            c         b          n  ...                      w   \n",
       "48            c         b          n  ...                      w   \n",
       "49            c         b          w  ...                      w   \n",
       "50            c         b          w  ...                      w   \n",
       "\n",
       "   stalk-color-below-ring veil-type veil-color ring-number ring-type  \\\n",
       "33                      w         p          w           o         p   \n",
       "41                      w         p          w           o         p   \n",
       "48                      w         p          w           o         p   \n",
       "49                      w         p          w           o         p   \n",
       "50                      w         p          w           o         p   \n",
       "\n",
       "   spore-print-color population habitat visually-pleasant  \n",
       "33                 n          y       p                 1  \n",
       "41                 k          y       p                 1  \n",
       "48                 n          s       p                 1  \n",
       "49                 k          s       p                 1  \n",
       "50                 k          s       g                 1  \n",
       "\n",
       "[5 rows x 24 columns]"
      ]
     },
     "execution_count": 18,
     "metadata": {},
     "output_type": "execute_result"
    }
   ],
   "source": [
    "# Now, a manual classification for visually-appealing mushrooms would be helpful in order to see the amount of \n",
    "# visually-pleasant mushrooms, as well as determine what is visually pleasant, as it is subjective\n",
    "data_manual = data.copy()\n",
    "# cap-shape: bell=b,conical=c,convex=x,flat=f, knobbed=k,sunken=s\n",
    "# cap-surface: fibrous=f,grooves=g,scaly=y,smooth=s\n",
    "# cap-color: brown=n,buff=b,cinnamon=c,gray=g,green=r, pink=p,purple=u,red=e,white=w,yellow=y\n",
    "# Stalk-shape: enlarging = e, tapering = t\n",
    "# Stalk-root: bulbous=b,club=c,cup=u,equal=e, rhizomorphs=z,rooted=r,missing=?\n",
    "# stalk-surface-above-ring: fibrous=f,scaly=y,silky=k,smooth=s\n",
    "# stalk-surface-below-ring: fibrous=f,scaly=y,silky=k,smooth=s\n",
    "# stalk-color-above-ring: brown=n,buff=b,cinnamon=c,gray=g,orange=o, pink=p,red=e,white=w,yellow=y\n",
    "# stalk-color-below-ring: brown=n,buff=b,cinnamon=c,gray=g,orange=o, pink=p,red=e,white=w,yellow=y\n",
    "# veil type: partial=p,universal=u\n",
    "# veil color: brown=n,orange=o,white=w,yellow=y\n",
    "# ring number: none=n,one=o,two=t\n",
    "# ring-type: cobwebby=c,evanescent=e,flaring=f,large=l, none=n,pendant=p,sheathing=s,zone=z\n",
    "# spore-print-color: black=k,brown=n,buff=b,chocolate=h,green=r, orange=o,purple=u,white=w,yellow=y\n",
    "\n",
    "# First, the characteristics that are visually pleasing must be set: \n",
    "# cap-shape: irrelevant\n",
    "# cap-surface: fibrous surface is not visually pleasant, so it will be filtered out\n",
    "cap_surface_filter = (data_manual[\"cap-surface\"] != \"f\")\n",
    "# cap-color: every color for mushroom cap is visually pleasant\n",
    "# stalk shape: both possibilities are equally to the eyes of the person performing the test, so no filtering is needed\n",
    "# stalk-root: cup, rhizomorphs, and rooted are not visually pleasant, so they will be filtered out\n",
    "stalk_root_filter = (data_manual[\"stalk-root\"] == \"u\") | (data_manual[\"stalk-root\"] == \"z\") | (data_manual[\"stalk-root\"] == \"r\")\n",
    "# stalk-surface-above-ring and below-ring: A fibrous ring surfacea is not visually pleasant\n",
    "stalk_surface_ring_filter = (data_manual[\"stalk-surface-above-ring\"] != \"f\") & (data_manual[\"stalk-surface-below-ring\"] != \"f\")\n",
    "# stalk color above and below ring: color of the ring is irrelevant for the visual appeal\n",
    "# veil type and color: the veil type and color are irrelevant for visual appeal\n",
    "# ring number: irrelevant\n",
    "# ring type: cobwebby and sheathing rings are visually unpleasant, so they will be filtered out\n",
    "ring_type_filter = (data_manual[\"ring-type\"] != \"c\") & (data_manual[\"ring-type\"] != \"s\")\n",
    "# spore-print-color: irrelevant\n",
    "\n",
    "visual_filter = cap_surface_filter & stalk_root_filter & stalk_surface_ring_filter & ring_type_filter\n",
    "data_manual[\"visually-pleasant\"] = np.where(visual_filter, 1, 0)\n",
    "print(data_manual[\"visually-pleasant\"].value_counts())\n",
    "data_manual[data_manual[\"visually-pleasant\"] == 1].head()"
   ]
  },
  {
   "cell_type": "markdown",
   "id": "b4c4fa51",
   "metadata": {},
   "source": [
    "As it can be seen, based on the filters, which are completely subjective, most mushrooms are NOT visually pleasant. "
   ]
  },
  {
   "cell_type": "markdown",
   "id": "7c147f96",
   "metadata": {},
   "source": [
    "## Pleasingly smelling\n",
    "* odor: It is the only relevant variable for how pleasantly smelling a mushroom is."
   ]
  },
  {
   "cell_type": "code",
   "execution_count": 19,
   "id": "684afcb4",
   "metadata": {},
   "outputs": [
    {
     "data": {
      "image/png": "[encoded data removed]",
      "text/plain": [
       "<Figure size 432x288 with 1 Axes>"
      ]
     },
     "metadata": {
      "needs_background": "light"
     },
     "output_type": "display_data"
    }
   ],
   "source": [
    "# odor\n",
    "# almond=a,anise=l,creosote=c,fishy=y,foul=f, musty=m,none=n,pungent=p,spicy=s\n",
    "odor = data[\"odor\"].str.replace(\"a\", \"almond\")\n",
    "odor = odor.str.replace(\"l\", \"anise\")\n",
    "odor = odor.str.replace(\"c\", \"creosote\")\n",
    "odor = odor.str.replace(\"y\", \"fishy\")\n",
    "odor = odor.str.replace(\"f\", \"foul\")\n",
    "odor = odor.str.replace(\"m\", \"musty\")\n",
    "odor = odor.str.replace(\"n\", \"none\")\n",
    "odor = odor.str.replace(\"p\", \"pungent\")\n",
    "odor = odor.str.replace(\"s\", \"spicy\")\n",
    "\n",
    "sns.histplot(data=odor, x=odor, hue=data[\"poisonous\"], multiple=\"stack\")\n",
    "plt.savefig(\"Odor-poison-distribution.png\")"
   ]
  },
  {
   "cell_type": "code",
   "execution_count": 20,
   "id": "8d5ece21",
   "metadata": {},
   "outputs": [
    {
     "name": "stdout",
     "output_type": "stream",
     "text": [
      "pleasant-smell\n",
      "1    5480\n",
      "0    2644\n",
      "Name: count, dtype: int64\n"
     ]
    },
    {
     "data": {
      "text/html": [
       "<div>\n",
       "<style scoped>\n",
       "    .dataframe tbody tr th:only-of-type {\n",
       "        vertical-align: middle;\n",
       "    }\n",
       "\n",
       "    .dataframe tbody tr th {\n",
       "        vertical-align: top;\n",
       "    }\n",
       "\n",
       "    .dataframe thead th {\n",
       "        text-align: right;\n",
       "    }\n",
       "</style>\n",
       "<table border=\"1\" class=\"dataframe\">\n",
       "  <thead>\n",
       "    <tr style=\"text-align: right;\">\n",
       "      <th></th>\n",
       "      <th>poisonous</th>\n",
       "      <th>cap-shape</th>\n",
       "      <th>cap-surface</th>\n",
       "      <th>cap-color</th>\n",
       "      <th>bruises</th>\n",
       "      <th>odor</th>\n",
       "      <th>gill-attachment</th>\n",
       "      <th>gill-spacing</th>\n",
       "      <th>gill-size</th>\n",
       "      <th>gill-color</th>\n",
       "      <th>...</th>\n",
       "      <th>stalk-color-below-ring</th>\n",
       "      <th>veil-type</th>\n",
       "      <th>veil-color</th>\n",
       "      <th>ring-number</th>\n",
       "      <th>ring-type</th>\n",
       "      <th>spore-print-color</th>\n",
       "      <th>population</th>\n",
       "      <th>habitat</th>\n",
       "      <th>visually-pleasant</th>\n",
       "      <th>pleasant-smell</th>\n",
       "    </tr>\n",
       "  </thead>\n",
       "  <tbody>\n",
       "    <tr>\n",
       "      <th>1</th>\n",
       "      <td>e</td>\n",
       "      <td>x</td>\n",
       "      <td>s</td>\n",
       "      <td>y</td>\n",
       "      <td>t</td>\n",
       "      <td>a</td>\n",
       "      <td>f</td>\n",
       "      <td>c</td>\n",
       "      <td>b</td>\n",
       "      <td>k</td>\n",
       "      <td>...</td>\n",
       "      <td>w</td>\n",
       "      <td>p</td>\n",
       "      <td>w</td>\n",
       "      <td>o</td>\n",
       "      <td>p</td>\n",
       "      <td>n</td>\n",
       "      <td>n</td>\n",
       "      <td>g</td>\n",
       "      <td>0</td>\n",
       "      <td>1</td>\n",
       "    </tr>\n",
       "    <tr>\n",
       "      <th>2</th>\n",
       "      <td>e</td>\n",
       "      <td>b</td>\n",
       "      <td>s</td>\n",
       "      <td>w</td>\n",
       "      <td>t</td>\n",
       "      <td>l</td>\n",
       "      <td>f</td>\n",
       "      <td>c</td>\n",
       "      <td>b</td>\n",
       "      <td>n</td>\n",
       "      <td>...</td>\n",
       "      <td>w</td>\n",
       "      <td>p</td>\n",
       "      <td>w</td>\n",
       "      <td>o</td>\n",
       "      <td>p</td>\n",
       "      <td>n</td>\n",
       "      <td>n</td>\n",
       "      <td>m</td>\n",
       "      <td>0</td>\n",
       "      <td>1</td>\n",
       "    </tr>\n",
       "    <tr>\n",
       "      <th>4</th>\n",
       "      <td>e</td>\n",
       "      <td>x</td>\n",
       "      <td>s</td>\n",
       "      <td>g</td>\n",
       "      <td>f</td>\n",
       "      <td>n</td>\n",
       "      <td>f</td>\n",
       "      <td>w</td>\n",
       "      <td>b</td>\n",
       "      <td>k</td>\n",
       "      <td>...</td>\n",
       "      <td>w</td>\n",
       "      <td>p</td>\n",
       "      <td>w</td>\n",
       "      <td>o</td>\n",
       "      <td>e</td>\n",
       "      <td>n</td>\n",
       "      <td>a</td>\n",
       "      <td>g</td>\n",
       "      <td>0</td>\n",
       "      <td>1</td>\n",
       "    </tr>\n",
       "    <tr>\n",
       "      <th>5</th>\n",
       "      <td>e</td>\n",
       "      <td>x</td>\n",
       "      <td>y</td>\n",
       "      <td>y</td>\n",
       "      <td>t</td>\n",
       "      <td>a</td>\n",
       "      <td>f</td>\n",
       "      <td>c</td>\n",
       "      <td>b</td>\n",
       "      <td>n</td>\n",
       "      <td>...</td>\n",
       "      <td>w</td>\n",
       "      <td>p</td>\n",
       "      <td>w</td>\n",
       "      <td>o</td>\n",
       "      <td>p</td>\n",
       "      <td>k</td>\n",
       "      <td>n</td>\n",
       "      <td>g</td>\n",
       "      <td>0</td>\n",
       "      <td>1</td>\n",
       "    </tr>\n",
       "    <tr>\n",
       "      <th>6</th>\n",
       "      <td>e</td>\n",
       "      <td>b</td>\n",
       "      <td>s</td>\n",
       "      <td>w</td>\n",
       "      <td>t</td>\n",
       "      <td>a</td>\n",
       "      <td>f</td>\n",
       "      <td>c</td>\n",
       "      <td>b</td>\n",
       "      <td>g</td>\n",
       "      <td>...</td>\n",
       "      <td>w</td>\n",
       "      <td>p</td>\n",
       "      <td>w</td>\n",
       "      <td>o</td>\n",
       "      <td>p</td>\n",
       "      <td>k</td>\n",
       "      <td>n</td>\n",
       "      <td>m</td>\n",
       "      <td>0</td>\n",
       "      <td>1</td>\n",
       "    </tr>\n",
       "  </tbody>\n",
       "</table>\n",
       "<p>5 rows × 25 columns</p>\n",
       "</div>"
      ],
      "text/plain": [
       "  poisonous cap-shape cap-surface cap-color bruises odor gill-attachment  \\\n",
       "1         e         x           s         y       t    a               f   \n",
       "2         e         b           s         w       t    l               f   \n",
       "4         e         x           s         g       f    n               f   \n",
       "5         e         x           y         y       t    a               f   \n",
       "6         e         b           s         w       t    a               f   \n",
       "\n",
       "  gill-spacing gill-size gill-color  ... stalk-color-below-ring veil-type  \\\n",
       "1            c         b          k  ...                      w         p   \n",
       "2            c         b          n  ...                      w         p   \n",
       "4            w         b          k  ...                      w         p   \n",
       "5            c         b          n  ...                      w         p   \n",
       "6            c         b          g  ...                      w         p   \n",
       "\n",
       "  veil-color ring-number ring-type spore-print-color population habitat  \\\n",
       "1          w           o         p                 n          n       g   \n",
       "2          w           o         p                 n          n       m   \n",
       "4          w           o         e                 n          a       g   \n",
       "5          w           o         p                 k          n       g   \n",
       "6          w           o         p                 k          n       m   \n",
       "\n",
       "  visually-pleasant pleasant-smell  \n",
       "1                 0              1  \n",
       "2                 0              1  \n",
       "4                 0              1  \n",
       "5                 0              1  \n",
       "6                 0              1  \n",
       "\n",
       "[5 rows x 25 columns]"
      ]
     },
     "execution_count": 20,
     "metadata": {},
     "output_type": "execute_result"
    }
   ],
   "source": [
    "# Now, a manual classification for pleasingly-smelling mushrooms would be helpful in order to see the amount of \n",
    "# pleasignly smelling mushrooms\n",
    "#data_manual = data.copy()\n",
    "# foul, musty, creosote, and pungent smells are NOT pleasant, in a completely subjective manner. \n",
    "# almond=a,anise=l,creosote=c,fishy=y,foul=f, musty=m,none=n,pungent=p,spicy=s\n",
    "# therefore, these mushrooms will be filtered out\n",
    "odor_filter = (data_manual[\"odor\"] != \"f\") & (data_manual[\"odor\"] != \"m\") & (data_manual[\"odor\"] != \"p\") & (data_manual[\"odor\"] != \"c\")\n",
    "data_manual[\"pleasant-smell\"] = np.where(odor_filter, 1, 0)\n",
    "print(data_manual[\"pleasant-smell\"].value_counts())\n",
    "data_manual[data_manual[\"pleasant-smell\"] == 1].head()"
   ]
  },
  {
   "cell_type": "markdown",
   "id": "37b1d573",
   "metadata": {},
   "source": [
    "## Preverably non-toxic\n",
    "This is relatively objective, as the database predicted the toxicity of mushrooms with some columns with at least a 95% accuracy.\n",
    "* odor\n",
    "* spore-print-color\n",
    "* stalk-surface-below-ring\n",
    "* stalk-color-above-ring\n",
    "* habitat\n",
    "* cap-color"
   ]
  },
  {
   "cell_type": "code",
   "execution_count": 21,
   "id": "e160ebc9",
   "metadata": {},
   "outputs": [
    {
     "data": {
      "image/png": "[encoded data removed]",
      "text/plain": [
       "<Figure size 432x288 with 1 Axes>"
      ]
     },
     "metadata": {
      "needs_background": "light"
     },
     "output_type": "display_data"
    }
   ],
   "source": [
    "# habitat\n",
    "# grasses=g,leaves=l,meadows=m,paths=p, urban=u,waste=w,woods=d\n",
    "habitat = data[\"habitat\"].str.replace(\"g\", \"grasses\")\n",
    "habitat = habitat.str.replace(\"l\", \"leaves\")\n",
    "habitat = habitat.str.replace(\"m\", \"meadows\")\n",
    "habitat = habitat.str.replace(\"p\", \"paths\")\n",
    "habitat = habitat.str.replace(\"u\", \"urban\")\n",
    "habitat = habitat.str.replace(\"m\", \"musty\")\n",
    "habitat = habitat.str.replace(\"w\", \"waste\")\n",
    "habitat = habitat.str.replace(\"d\", \"woods\")\n",
    "\n",
    "sns.histplot(data=habitat, x=habitat, hue=data[\"poisonous\"], multiple=\"stack\")\n",
    "plt.savefig(\"Habitat-poison-distribution.png\")"
   ]
  },
  {
   "cell_type": "code",
   "execution_count": 22,
   "id": "d7de6819",
   "metadata": {},
   "outputs": [
    {
     "data": {
      "text/plain": [
       "poisonous\n",
       "e    4208\n",
       "p    3916\n",
       "Name: count, dtype: int64"
      ]
     },
     "execution_count": 22,
     "metadata": {},
     "output_type": "execute_result"
    }
   ],
   "source": [
    "# Filter by poisonous\n",
    "poison_filter = data_manual[\"poisonous\"] != \"p\"\n",
    "data.poisonous.value_counts()"
   ]
  },
  {
   "cell_type": "markdown",
   "id": "d6059349",
   "metadata": {},
   "source": [
    "## Combinations\n",
    "There are a total of 8 combinations:\n",
    "* visually pleasant, pleasingly smelling, and non-toxic\n",
    "* visually pleasant, pleasingly smelling, and toxic\n",
    "* visually pleasant, not pleasingly smelling, and non-toxic\n",
    "* visually pleasant, not pleasingly smelling, and toxic\n",
    "* not visually pleasant, pleasingly smelling, and non-toxic\n",
    "* not visually pleasant, pleasingly smelling, and toxic\n",
    "* not visually pleasant, not pleasingly smelling, and non-toxic\n",
    "* not visually pleasant, not pleasingly smelling, and toxic"
   ]
  },
  {
   "cell_type": "code",
   "execution_count": 23,
   "id": "f35e1e7b",
   "metadata": {},
   "outputs": [
    {
     "name": "stdout",
     "output_type": "stream",
     "text": [
      "visually pleasant, pleasingly smelling, and non-toxic\n",
      "192\n",
      "visually pleasant, pleasingly smelling, and toxic\n",
      "0\n",
      "visually pleasant, not pleasingly smelling, and non-toxic\n",
      "0\n",
      "visually pleasant, not pleasingly smelling, and toxic\n",
      "0\n",
      "not visually pleasant, pleasingly smelling, and non-toxic\n",
      "4016\n",
      "not visually pleasant, pleasingly smelling, and toxic\n",
      "1272\n",
      "not visually pleasant, not pleasingly smelling, and non-toxic\n",
      "0\n",
      "not visually pleasant, not pleasingly smelling, and toxic\n",
      "2644\n"
     ]
    }
   ],
   "source": [
    "print(\"visually pleasant, pleasingly smelling, and non-toxic\")\n",
    "print(len(data_manual[visual_filter & odor_filter & poison_filter]))\n",
    "print(\"visually pleasant, pleasingly smelling, and toxic\")\n",
    "print(len(data_manual[visual_filter & odor_filter & ~poison_filter]))\n",
    "print(\"visually pleasant, not pleasingly smelling, and non-toxic\")\n",
    "print(len(data_manual[visual_filter & ~odor_filter & poison_filter]))\n",
    "print(\"visually pleasant, not pleasingly smelling, and toxic\")\n",
    "print(len(data_manual[visual_filter & ~odor_filter & ~poison_filter]))\n",
    "print(\"not visually pleasant, pleasingly smelling, and non-toxic\")\n",
    "print(len(data_manual[~visual_filter & odor_filter & poison_filter]))\n",
    "print(\"not visually pleasant, pleasingly smelling, and toxic\")\n",
    "print(len(data_manual[~visual_filter & odor_filter & ~poison_filter]))\n",
    "print(\"not visually pleasant, not pleasingly smelling, and non-toxic\")\n",
    "print(len(data_manual[~visual_filter & ~odor_filter & poison_filter]))\n",
    "print(\"not visually pleasant, not pleasingly smelling, and toxic\")\n",
    "print(len(data_manual[~visual_filter & ~odor_filter & ~poison_filter]))"
   ]
  },
  {
   "cell_type": "markdown",
   "id": "475a63c7",
   "metadata": {},
   "source": [
    "As it can be seen, out of the database with over 8000 mushrooms samples, there are only 192 that are visually pleasant, pleasingly smelling, and non-toxic. \n",
    "It can also be seen that there are no mushrooms that are both visually pleasant and not-pleasingly smelling. \n",
    "Around half of the samples is not visually pleasant, but pleasingly smelling and non-toxic"
   ]
  },
  {
   "cell_type": "code",
   "execution_count": 24,
   "id": "af09a116",
   "metadata": {},
   "outputs": [
    {
     "data": {
      "text/plain": [
       "Index([  33,   41,   48,   49,   50,   59,   67,   73,   77,   79,\n",
       "       ...\n",
       "       1599, 1672, 1690, 1728, 1744, 1751, 1769, 1915, 2005, 2045],\n",
       "      dtype='int64', length=192)"
      ]
     },
     "execution_count": 24,
     "metadata": {},
     "output_type": "execute_result"
    }
   ],
   "source": [
    "data_manual[\"poisonous\"] = np.where(data_manual[\"poisonous\"] == \"p\", 1, 0)\n",
    "data_manual[\"good_for_stew\"] = np.where(visual_filter & odor_filter & poison_filter, 1, 0)\n",
    "data_manual[data_manual[\"good_for_stew\"] == 1].index"
   ]
  },
  {
   "cell_type": "markdown",
   "id": "92a6c995",
   "metadata": {},
   "source": [
    "With this information, there is now a \"truth-table\" on which mushrooms are acceptable for the stew. \n",
    "This information will be used to compare the different classification techniques too see which one classifies the mushrooms into the 6 correct categories"
   ]
  },
  {
   "cell_type": "markdown",
   "id": "ac975d8a",
   "metadata": {},
   "source": [
    "# Classification algorithms\n",
    "## KNN (K nearest neighbors)"
   ]
  },
  {
   "cell_type": "code",
   "execution_count": 25,
   "id": "f710e207",
   "metadata": {},
   "outputs": [
    {
     "data": {
      "text/html": [
       "<div>\n",
       "<style scoped>\n",
       "    .dataframe tbody tr th:only-of-type {\n",
       "        vertical-align: middle;\n",
       "    }\n",
       "\n",
       "    .dataframe tbody tr th {\n",
       "        vertical-align: top;\n",
       "    }\n",
       "\n",
       "    .dataframe thead th {\n",
       "        text-align: right;\n",
       "    }\n",
       "</style>\n",
       "<table border=\"1\" class=\"dataframe\">\n",
       "  <thead>\n",
       "    <tr style=\"text-align: right;\">\n",
       "      <th></th>\n",
       "      <th>poisonous</th>\n",
       "      <th>cap-shape</th>\n",
       "      <th>cap-surface</th>\n",
       "      <th>cap-color</th>\n",
       "      <th>bruises</th>\n",
       "      <th>odor</th>\n",
       "      <th>gill-attachment</th>\n",
       "      <th>gill-spacing</th>\n",
       "      <th>gill-size</th>\n",
       "      <th>gill-color</th>\n",
       "      <th>...</th>\n",
       "      <th>stalk-surface-below-ring</th>\n",
       "      <th>stalk-color-above-ring</th>\n",
       "      <th>stalk-color-below-ring</th>\n",
       "      <th>veil-type</th>\n",
       "      <th>veil-color</th>\n",
       "      <th>ring-number</th>\n",
       "      <th>ring-type</th>\n",
       "      <th>spore-print-color</th>\n",
       "      <th>population</th>\n",
       "      <th>habitat</th>\n",
       "    </tr>\n",
       "  </thead>\n",
       "  <tbody>\n",
       "    <tr>\n",
       "      <th>0</th>\n",
       "      <td>p</td>\n",
       "      <td>x</td>\n",
       "      <td>s</td>\n",
       "      <td>n</td>\n",
       "      <td>t</td>\n",
       "      <td>p</td>\n",
       "      <td>f</td>\n",
       "      <td>c</td>\n",
       "      <td>n</td>\n",
       "      <td>k</td>\n",
       "      <td>...</td>\n",
       "      <td>s</td>\n",
       "      <td>w</td>\n",
       "      <td>w</td>\n",
       "      <td>p</td>\n",
       "      <td>w</td>\n",
       "      <td>o</td>\n",
       "      <td>p</td>\n",
       "      <td>k</td>\n",
       "      <td>s</td>\n",
       "      <td>u</td>\n",
       "    </tr>\n",
       "    <tr>\n",
       "      <th>1</th>\n",
       "      <td>e</td>\n",
       "      <td>x</td>\n",
       "      <td>s</td>\n",
       "      <td>y</td>\n",
       "      <td>t</td>\n",
       "      <td>a</td>\n",
       "      <td>f</td>\n",
       "      <td>c</td>\n",
       "      <td>b</td>\n",
       "      <td>k</td>\n",
       "      <td>...</td>\n",
       "      <td>s</td>\n",
       "      <td>w</td>\n",
       "      <td>w</td>\n",
       "      <td>p</td>\n",
       "      <td>w</td>\n",
       "      <td>o</td>\n",
       "      <td>p</td>\n",
       "      <td>n</td>\n",
       "      <td>n</td>\n",
       "      <td>g</td>\n",
       "    </tr>\n",
       "    <tr>\n",
       "      <th>2</th>\n",
       "      <td>e</td>\n",
       "      <td>b</td>\n",
       "      <td>s</td>\n",
       "      <td>w</td>\n",
       "      <td>t</td>\n",
       "      <td>l</td>\n",
       "      <td>f</td>\n",
       "      <td>c</td>\n",
       "      <td>b</td>\n",
       "      <td>n</td>\n",
       "      <td>...</td>\n",
       "      <td>s</td>\n",
       "      <td>w</td>\n",
       "      <td>w</td>\n",
       "      <td>p</td>\n",
       "      <td>w</td>\n",
       "      <td>o</td>\n",
       "      <td>p</td>\n",
       "      <td>n</td>\n",
       "      <td>n</td>\n",
       "      <td>m</td>\n",
       "    </tr>\n",
       "    <tr>\n",
       "      <th>3</th>\n",
       "      <td>p</td>\n",
       "      <td>x</td>\n",
       "      <td>y</td>\n",
       "      <td>w</td>\n",
       "      <td>t</td>\n",
       "      <td>p</td>\n",
       "      <td>f</td>\n",
       "      <td>c</td>\n",
       "      <td>n</td>\n",
       "      <td>n</td>\n",
       "      <td>...</td>\n",
       "      <td>s</td>\n",
       "      <td>w</td>\n",
       "      <td>w</td>\n",
       "      <td>p</td>\n",
       "      <td>w</td>\n",
       "      <td>o</td>\n",
       "      <td>p</td>\n",
       "      <td>k</td>\n",
       "      <td>s</td>\n",
       "      <td>u</td>\n",
       "    </tr>\n",
       "    <tr>\n",
       "      <th>4</th>\n",
       "      <td>e</td>\n",
       "      <td>x</td>\n",
       "      <td>s</td>\n",
       "      <td>g</td>\n",
       "      <td>f</td>\n",
       "      <td>n</td>\n",
       "      <td>f</td>\n",
       "      <td>w</td>\n",
       "      <td>b</td>\n",
       "      <td>k</td>\n",
       "      <td>...</td>\n",
       "      <td>s</td>\n",
       "      <td>w</td>\n",
       "      <td>w</td>\n",
       "      <td>p</td>\n",
       "      <td>w</td>\n",
       "      <td>o</td>\n",
       "      <td>e</td>\n",
       "      <td>n</td>\n",
       "      <td>a</td>\n",
       "      <td>g</td>\n",
       "    </tr>\n",
       "  </tbody>\n",
       "</table>\n",
       "<p>5 rows × 23 columns</p>\n",
       "</div>"
      ],
      "text/plain": [
       "  poisonous cap-shape cap-surface cap-color bruises odor gill-attachment  \\\n",
       "0         p         x           s         n       t    p               f   \n",
       "1         e         x           s         y       t    a               f   \n",
       "2         e         b           s         w       t    l               f   \n",
       "3         p         x           y         w       t    p               f   \n",
       "4         e         x           s         g       f    n               f   \n",
       "\n",
       "  gill-spacing gill-size gill-color  ... stalk-surface-below-ring  \\\n",
       "0            c         n          k  ...                        s   \n",
       "1            c         b          k  ...                        s   \n",
       "2            c         b          n  ...                        s   \n",
       "3            c         n          n  ...                        s   \n",
       "4            w         b          k  ...                        s   \n",
       "\n",
       "  stalk-color-above-ring stalk-color-below-ring veil-type veil-color  \\\n",
       "0                      w                      w         p          w   \n",
       "1                      w                      w         p          w   \n",
       "2                      w                      w         p          w   \n",
       "3                      w                      w         p          w   \n",
       "4                      w                      w         p          w   \n",
       "\n",
       "  ring-number ring-type spore-print-color population habitat  \n",
       "0           o         p                 k          s       u  \n",
       "1           o         p                 n          n       g  \n",
       "2           o         p                 n          n       m  \n",
       "3           o         p                 k          s       u  \n",
       "4           o         e                 n          a       g  \n",
       "\n",
       "[5 rows x 23 columns]"
      ]
     },
     "execution_count": 25,
     "metadata": {},
     "output_type": "execute_result"
    }
   ],
   "source": [
    "# As the data is categorical, it needs to be set to one-hot encoded\n",
    "data_prep = data.copy()\n",
    "data_prep.head()"
   ]
  },
  {
   "cell_type": "code",
   "execution_count": 26,
   "id": "116e2d43",
   "metadata": {},
   "outputs": [
    {
     "name": "stdout",
     "output_type": "stream",
     "text": [
      "   poisonous_p  cap-shape_c  cap-shape_f  cap-shape_k  cap-shape_s  \\\n",
      "0         True        False        False        False        False   \n",
      "1        False        False        False        False        False   \n",
      "2        False        False        False        False        False   \n",
      "3         True        False        False        False        False   \n",
      "4        False        False        False        False        False   \n",
      "\n",
      "   cap-shape_x  cap-surface_g  cap-surface_s  cap-surface_y  cap-color_c  ...  \\\n",
      "0         True          False           True          False        False  ...   \n",
      "1         True          False           True          False        False  ...   \n",
      "2        False          False           True          False        False  ...   \n",
      "3         True          False          False           True        False  ...   \n",
      "4         True          False           True          False        False  ...   \n",
      "\n",
      "   population_n  population_s  population_v  population_y  habitat_g  \\\n",
      "0         False          True         False         False      False   \n",
      "1          True         False         False         False       True   \n",
      "2          True         False         False         False      False   \n",
      "3         False          True         False         False      False   \n",
      "4         False         False         False         False       True   \n",
      "\n",
      "   habitat_l  habitat_m  habitat_p  habitat_u  habitat_w  \n",
      "0      False      False      False       True      False  \n",
      "1      False      False      False      False      False  \n",
      "2      False       True      False      False      False  \n",
      "3      False      False      False       True      False  \n",
      "4      False      False      False      False      False  \n",
      "\n",
      "[5 rows x 96 columns]\n"
     ]
    }
   ],
   "source": [
    "x_encoded = pd.get_dummies(data_prep, drop_first = True)\n",
    "x_encoded.head()\n",
    "print(x_encoded.head())"
   ]
  },
  {
   "cell_type": "code",
   "execution_count": 27,
   "id": "fb1f32dc",
   "metadata": {},
   "outputs": [
    {
     "name": "stdout",
     "output_type": "stream",
     "text": [
      "<class 'pandas.core.frame.DataFrame'>\n",
      "RangeIndex: 8124 entries, 0 to 8123\n",
      "Data columns (total 3 columns):\n",
      " #   Column   Non-Null Count  Dtype\n",
      "---  ------   --------------  -----\n",
      " 0   nvppsnt  8124 non-null   bool \n",
      " 1   nvppst   8124 non-null   bool \n",
      " 2   vppsnt   8124 non-null   bool \n",
      "dtypes: bool(3)\n",
      "memory usage: 23.9 KB\n",
      "   nvppsnt  nvppst  vppsnt  nvpnpst\n",
      "0    False   False   False     True\n",
      "1     True   False   False    False\n",
      "2     True   False   False    False\n",
      "3    False   False   False     True\n",
      "4     True   False   False    False\n"
     ]
    }
   ],
   "source": [
    "# visually pleasant, pleasingly smelling, and non-toxic\n",
    "y = data_manual.copy()\n",
    "y[\"categories\"] = np.NAN\n",
    "y[\"categories\"] = np.where(visual_filter & odor_filter & poison_filter,\"vppsnt\", y[\"categories\"])\n",
    "# visually pleasant, pleasingly smelling, and toxic\n",
    "y[\"categories\"] = np.where(visual_filter & odor_filter & ~poison_filter,\"vppst\", y[\"categories\"])\n",
    "# visually pleasant, not pleasingly smelling, and non-toxic\n",
    "y[\"categories\"] = np.where(visual_filter & ~odor_filter & poison_filter,\"vpnpsnt\", y[\"categories\"])\n",
    "# visually pleasant, not pleasingly smelling, and toxic\n",
    "y[\"categories\"] = np.where(visual_filter & ~odor_filter & ~poison_filter,\"vpnpst\", y[\"categories\"])\n",
    "# not visually pleasant, pleasingly smelling, and non-toxic\n",
    "y[\"categories\"] = np.where(~visual_filter & odor_filter & poison_filter,\"nvppsnt\", y[\"categories\"])\n",
    "# not visually pleasant, pleasingly smelling, and toxic\n",
    "y[\"categories\"] = np.where(~visual_filter & odor_filter & ~poison_filter,\"nvppst\", y[\"categories\"])\n",
    "# not visually pleasant, not pleasingly smelling, and non-toxic\n",
    "y[\"categories\"] = np.where(~visual_filter & ~odor_filter & poison_filter,\"nvpnpsnt\", y[\"categories\"])\n",
    "# not visually pleasant, not pleasingly smelling, and toxic\n",
    "y[\"categories\"] = np.where(~visual_filter & ~odor_filter & ~poison_filter,\"nvpnpst\", y[\"categories\"])\n",
    "y = y[\"categories\"]\n",
    "#print(y)\n",
    "#y = data_manual[\"good_for_stew\"].copy()\n",
    "y_encoded = pd.get_dummies(y, drop_first=True)\n",
    "y_encoded.info()\n",
    "y_encoded[\"nvpnpst\"] = np.where((y_encoded[\"nvppsnt\"] == False) & \n",
    "                                (y_encoded[\"nvppst\"] == False) &\n",
    "                                (y_encoded[\"vppsnt\"] == False) , True, False)\n",
    "print(y_encoded.head())"
   ]
  },
  {
   "cell_type": "code",
   "execution_count": 28,
   "id": "e9f8ae78",
   "metadata": {},
   "outputs": [
    {
     "data": {
      "text/html": [
       "<style>#sk-container-id-1 {color: black;background-color: white;}#sk-container-id-1 pre{padding: 0;}#sk-container-id-1 div.sk-toggleable {background-color: white;}#sk-container-id-1 label.sk-toggleable__label {cursor: pointer;display: block;width: 100%;margin-bottom: 0;padding: 0.3em;box-sizing: border-box;text-align: center;}#sk-container-id-1 label.sk-toggleable__label-arrow:before {content: \"▸\";float: left;margin-right: 0.25em;color: #696969;}#sk-container-id-1 label.sk-toggleable__label-arrow:hover:before {color: black;}#sk-container-id-1 div.sk-estimator:hover label.sk-toggleable__label-arrow:before {color: black;}#sk-container-id-1 div.sk-toggleable__content {max-height: 0;max-width: 0;overflow: hidden;text-align: left;background-color: #f0f8ff;}#sk-container-id-1 div.sk-toggleable__content pre {margin: 0.2em;color: black;border-radius: 0.25em;background-color: #f0f8ff;}#sk-container-id-1 input.sk-toggleable__control:checked~div.sk-toggleable__content {max-height: 200px;max-width: 100%;overflow: auto;}#sk-container-id-1 input.sk-toggleable__control:checked~label.sk-toggleable__label-arrow:before {content: \"▾\";}#sk-container-id-1 div.sk-estimator input.sk-toggleable__control:checked~label.sk-toggleable__label {background-color: #d4ebff;}#sk-container-id-1 div.sk-label input.sk-toggleable__control:checked~label.sk-toggleable__label {background-color: #d4ebff;}#sk-container-id-1 input.sk-hidden--visually {border: 0;clip: rect(1px 1px 1px 1px);clip: rect(1px, 1px, 1px, 1px);height: 1px;margin: -1px;overflow: hidden;padding: 0;position: absolute;width: 1px;}#sk-container-id-1 div.sk-estimator {font-family: monospace;background-color: #f0f8ff;border: 1px dotted black;border-radius: 0.25em;box-sizing: border-box;margin-bottom: 0.5em;}#sk-container-id-1 div.sk-estimator:hover {background-color: #d4ebff;}#sk-container-id-1 div.sk-parallel-item::after {content: \"\";width: 100%;border-bottom: 1px solid gray;flex-grow: 1;}#sk-container-id-1 div.sk-label:hover label.sk-toggleable__label {background-color: #d4ebff;}#sk-container-id-1 div.sk-serial::before {content: \"\";position: absolute;border-left: 1px solid gray;box-sizing: border-box;top: 0;bottom: 0;left: 50%;z-index: 0;}#sk-container-id-1 div.sk-serial {display: flex;flex-direction: column;align-items: center;background-color: white;padding-right: 0.2em;padding-left: 0.2em;position: relative;}#sk-container-id-1 div.sk-item {position: relative;z-index: 1;}#sk-container-id-1 div.sk-parallel {display: flex;align-items: stretch;justify-content: center;background-color: white;position: relative;}#sk-container-id-1 div.sk-item::before, #sk-container-id-1 div.sk-parallel-item::before {content: \"\";position: absolute;border-left: 1px solid gray;box-sizing: border-box;top: 0;bottom: 0;left: 50%;z-index: -1;}#sk-container-id-1 div.sk-parallel-item {display: flex;flex-direction: column;z-index: 1;position: relative;background-color: white;}#sk-container-id-1 div.sk-parallel-item:first-child::after {align-self: flex-end;width: 50%;}#sk-container-id-1 div.sk-parallel-item:last-child::after {align-self: flex-start;width: 50%;}#sk-container-id-1 div.sk-parallel-item:only-child::after {width: 0;}#sk-container-id-1 div.sk-dashed-wrapped {border: 1px dashed gray;margin: 0 0.4em 0.5em 0.4em;box-sizing: border-box;padding-bottom: 0.4em;background-color: white;}#sk-container-id-1 div.sk-label label {font-family: monospace;font-weight: bold;display: inline-block;line-height: 1.2em;}#sk-container-id-1 div.sk-label-container {text-align: center;}#sk-container-id-1 div.sk-container {/* jupyter's `normalize.less` sets `[hidden] { display: none; }` but bootstrap.min.css set `[hidden] { display: none !important; }` so we also need the `!important` here to be able to override the default hidden behavior on the sphinx rendered scikit-learn.org. See: https://github.com/scikit-learn/scikit-learn/issues/21755 */display: inline-block !important;position: relative;}#sk-container-id-1 div.sk-text-repr-fallback {display: none;}</style><div id=\"sk-container-id-1\" class=\"sk-top-container\"><div class=\"sk-text-repr-fallback\"><pre>KNeighborsClassifier(n_neighbors=4)</pre><b>In a Jupyter environment, please rerun this cell to show the HTML representation or trust the notebook. <br />On GitHub, the HTML representation is unable to render, please try loading this page with nbviewer.org.</b></div><div class=\"sk-container\" hidden><div class=\"sk-item\"><div class=\"sk-estimator sk-toggleable\"><input class=\"sk-toggleable__control sk-hidden--visually\" id=\"sk-estimator-id-1\" type=\"checkbox\" checked><label for=\"sk-estimator-id-1\" class=\"sk-toggleable__label sk-toggleable__label-arrow\">KNeighborsClassifier</label><div class=\"sk-toggleable__content\"><pre>KNeighborsClassifier(n_neighbors=4)</pre></div></div></div></div></div>"
      ],
      "text/plain": [
       "KNeighborsClassifier(n_neighbors=4)"
      ]
     },
     "execution_count": 28,
     "metadata": {},
     "output_type": "execute_result"
    }
   ],
   "source": [
    "# Nearest Neighbors Classification\n",
    "# There are a total of 8 possible types of mushrooms, as previously mentioned\n",
    "# However, only 4 categories are actually included in the data\n",
    "knn = KNeighborsClassifier(n_neighbors=4)\n",
    "#y_encoded = y_encoded.values.ravel()\n",
    "knn.fit(x_encoded, y_encoded)"
   ]
  },
  {
   "cell_type": "code",
   "execution_count": 29,
   "id": "12fd5248",
   "metadata": {},
   "outputs": [
    {
     "name": "stdout",
     "output_type": "stream",
     "text": [
      "   nvppsnt  nvppst  vppsnt  nvpnpst\n",
      "0     True    True    True     True\n",
      "1     True    True    True     True\n",
      "2     True    True    True     True\n",
      "3     True    True    True     True\n",
      "4     True    True    True     True\n"
     ]
    }
   ],
   "source": [
    "pred_res = knn.predict(x_encoded)\n",
    "comparison = pred_res == y_encoded\n",
    "print(comparison.head())"
   ]
  },
  {
   "cell_type": "code",
   "execution_count": 30,
   "id": "c2c0fd47",
   "metadata": {},
   "outputs": [
    {
     "data": {
      "text/plain": [
       "Index([], dtype='int64')"
      ]
     },
     "execution_count": 30,
     "metadata": {},
     "output_type": "execute_result"
    }
   ],
   "source": [
    "# It can be observed that every mushroom type was clustered correctly\n",
    "comparison[(comparison[\"nvppsnt\"] == False) &\n",
    "           (comparison[\"nvppst\"] == False) &\n",
    "           (comparison[\"vppsnt\"] == False) &\n",
    "           (comparison[\"nvpnpst\"] == False)].index"
   ]
  },
  {
   "cell_type": "markdown",
   "id": "0efb2fe2",
   "metadata": {},
   "source": [
    "However, these predictions were made with Y including only 4 possible categories. \n",
    "Results may change if the full categories are added"
   ]
  },
  {
   "cell_type": "code",
   "execution_count": 31,
   "id": "a0aa6218",
   "metadata": {},
   "outputs": [],
   "source": [
    "y_encoded[\"vpnpsnt\"] = False\n",
    "y_encoded[\"nvpnpsnt\"] = False\n",
    "y_encoded[\"vppst\"] = False\n",
    "y_encoded[\"vpnpst\"] = False"
   ]
  },
  {
   "cell_type": "code",
   "execution_count": 32,
   "id": "2d972672",
   "metadata": {},
   "outputs": [
    {
     "name": "stdout",
     "output_type": "stream",
     "text": [
      "   nvppsnt  nvppst  vppsnt  nvpnpst  vpnpsnt  nvpnpsnt  vppst  vpnpst\n",
      "0     True    True    True     True     True      True   True    True\n",
      "1     True    True    True     True     True      True   True    True\n",
      "2     True    True    True     True     True      True   True    True\n",
      "3     True    True    True     True     True      True   True    True\n",
      "4     True    True    True     True     True      True   True    True\n"
     ]
    }
   ],
   "source": [
    "knn = KNeighborsClassifier(n_neighbors=8)\n",
    "#y_encoded = y_encoded.values.ravel()\n",
    "knn.fit(x_encoded, y_encoded)\n",
    "pred_res = knn.predict(x_encoded)\n",
    "comparison = pred_res == y_encoded\n",
    "print(comparison.head())"
   ]
  },
  {
   "cell_type": "code",
   "execution_count": 33,
   "id": "cc57628f",
   "metadata": {},
   "outputs": [
    {
     "data": {
      "text/plain": [
       "Index([], dtype='int64')"
      ]
     },
     "execution_count": 33,
     "metadata": {},
     "output_type": "execute_result"
    }
   ],
   "source": [
    "# It can be observed that every mushroom type was clustered correctly\n",
    "comparison[(comparison[\"nvppsnt\"] == False) |\n",
    "           (comparison[\"nvppst\"] == False) |\n",
    "           (comparison[\"vppsnt\"] == False) |\n",
    "           (comparison[\"nvpnpst\"] == False) |\n",
    "          (comparison[\"vpnpsnt\"] == False) |\n",
    "            (comparison[\"nvpnpsnt\"] == False) |\n",
    "            (comparison[\"vppst\"] == False) |\n",
    "            (comparison[\"vpnpst\"] == False)].index"
   ]
  },
  {
   "cell_type": "markdown",
   "id": "72254523",
   "metadata": {},
   "source": [
    "The mushrooms were correctly categorized again, even after including the 8 categories.\n",
    "However, 4 of those categories include only False values, which may set the algorithm to ignore them completely. "
   ]
  },
  {
   "cell_type": "markdown",
   "id": "6a732f08",
   "metadata": {},
   "source": [
    "## Decision Tree"
   ]
  },
  {
   "cell_type": "code",
   "execution_count": 34,
   "id": "53553345",
   "metadata": {},
   "outputs": [],
   "source": [
    "dtc = DecisionTreeClassifier(criterion='entropy',max_depth=10, random_state=42)"
   ]
  },
  {
   "cell_type": "code",
   "execution_count": 35,
   "id": "6664ebe6",
   "metadata": {},
   "outputs": [
    {
     "data": {
      "text/html": [
       "<style>#sk-container-id-2 {color: black;background-color: white;}#sk-container-id-2 pre{padding: 0;}#sk-container-id-2 div.sk-toggleable {background-color: white;}#sk-container-id-2 label.sk-toggleable__label {cursor: pointer;display: block;width: 100%;margin-bottom: 0;padding: 0.3em;box-sizing: border-box;text-align: center;}#sk-container-id-2 label.sk-toggleable__label-arrow:before {content: \"▸\";float: left;margin-right: 0.25em;color: #696969;}#sk-container-id-2 label.sk-toggleable__label-arrow:hover:before {color: black;}#sk-container-id-2 div.sk-estimator:hover label.sk-toggleable__label-arrow:before {color: black;}#sk-container-id-2 div.sk-toggleable__content {max-height: 0;max-width: 0;overflow: hidden;text-align: left;background-color: #f0f8ff;}#sk-container-id-2 div.sk-toggleable__content pre {margin: 0.2em;color: black;border-radius: 0.25em;background-color: #f0f8ff;}#sk-container-id-2 input.sk-toggleable__control:checked~div.sk-toggleable__content {max-height: 200px;max-width: 100%;overflow: auto;}#sk-container-id-2 input.sk-toggleable__control:checked~label.sk-toggleable__label-arrow:before {content: \"▾\";}#sk-container-id-2 div.sk-estimator input.sk-toggleable__control:checked~label.sk-toggleable__label {background-color: #d4ebff;}#sk-container-id-2 div.sk-label input.sk-toggleable__control:checked~label.sk-toggleable__label {background-color: #d4ebff;}#sk-container-id-2 input.sk-hidden--visually {border: 0;clip: rect(1px 1px 1px 1px);clip: rect(1px, 1px, 1px, 1px);height: 1px;margin: -1px;overflow: hidden;padding: 0;position: absolute;width: 1px;}#sk-container-id-2 div.sk-estimator {font-family: monospace;background-color: #f0f8ff;border: 1px dotted black;border-radius: 0.25em;box-sizing: border-box;margin-bottom: 0.5em;}#sk-container-id-2 div.sk-estimator:hover {background-color: #d4ebff;}#sk-container-id-2 div.sk-parallel-item::after {content: \"\";width: 100%;border-bottom: 1px solid gray;flex-grow: 1;}#sk-container-id-2 div.sk-label:hover label.sk-toggleable__label {background-color: #d4ebff;}#sk-container-id-2 div.sk-serial::before {content: \"\";position: absolute;border-left: 1px solid gray;box-sizing: border-box;top: 0;bottom: 0;left: 50%;z-index: 0;}#sk-container-id-2 div.sk-serial {display: flex;flex-direction: column;align-items: center;background-color: white;padding-right: 0.2em;padding-left: 0.2em;position: relative;}#sk-container-id-2 div.sk-item {position: relative;z-index: 1;}#sk-container-id-2 div.sk-parallel {display: flex;align-items: stretch;justify-content: center;background-color: white;position: relative;}#sk-container-id-2 div.sk-item::before, #sk-container-id-2 div.sk-parallel-item::before {content: \"\";position: absolute;border-left: 1px solid gray;box-sizing: border-box;top: 0;bottom: 0;left: 50%;z-index: -1;}#sk-container-id-2 div.sk-parallel-item {display: flex;flex-direction: column;z-index: 1;position: relative;background-color: white;}#sk-container-id-2 div.sk-parallel-item:first-child::after {align-self: flex-end;width: 50%;}#sk-container-id-2 div.sk-parallel-item:last-child::after {align-self: flex-start;width: 50%;}#sk-container-id-2 div.sk-parallel-item:only-child::after {width: 0;}#sk-container-id-2 div.sk-dashed-wrapped {border: 1px dashed gray;margin: 0 0.4em 0.5em 0.4em;box-sizing: border-box;padding-bottom: 0.4em;background-color: white;}#sk-container-id-2 div.sk-label label {font-family: monospace;font-weight: bold;display: inline-block;line-height: 1.2em;}#sk-container-id-2 div.sk-label-container {text-align: center;}#sk-container-id-2 div.sk-container {/* jupyter's `normalize.less` sets `[hidden] { display: none; }` but bootstrap.min.css set `[hidden] { display: none !important; }` so we also need the `!important` here to be able to override the default hidden behavior on the sphinx rendered scikit-learn.org. See: https://github.com/scikit-learn/scikit-learn/issues/21755 */display: inline-block !important;position: relative;}#sk-container-id-2 div.sk-text-repr-fallback {display: none;}</style><div id=\"sk-container-id-2\" class=\"sk-top-container\"><div class=\"sk-text-repr-fallback\"><pre>DecisionTreeClassifier(criterion=&#x27;entropy&#x27;, max_depth=10, random_state=42)</pre><b>In a Jupyter environment, please rerun this cell to show the HTML representation or trust the notebook. <br />On GitHub, the HTML representation is unable to render, please try loading this page with nbviewer.org.</b></div><div class=\"sk-container\" hidden><div class=\"sk-item\"><div class=\"sk-estimator sk-toggleable\"><input class=\"sk-toggleable__control sk-hidden--visually\" id=\"sk-estimator-id-2\" type=\"checkbox\" checked><label for=\"sk-estimator-id-2\" class=\"sk-toggleable__label sk-toggleable__label-arrow\">DecisionTreeClassifier</label><div class=\"sk-toggleable__content\"><pre>DecisionTreeClassifier(criterion=&#x27;entropy&#x27;, max_depth=10, random_state=42)</pre></div></div></div></div></div>"
      ],
      "text/plain": [
       "DecisionTreeClassifier(criterion='entropy', max_depth=10, random_state=42)"
      ]
     },
     "execution_count": 35,
     "metadata": {},
     "output_type": "execute_result"
    }
   ],
   "source": [
    "dtc.fit(x_encoded, y_encoded)"
   ]
  },
  {
   "cell_type": "code",
   "execution_count": 36,
   "id": "ac4bec38",
   "metadata": {},
   "outputs": [
    {
     "name": "stdout",
     "output_type": "stream",
     "text": [
      "   nvppsnt  nvppst  vppsnt  nvpnpst  vpnpsnt  nvpnpsnt  vppst  vpnpst\n",
      "0     True    True    True     True     True      True   True    True\n",
      "1     True    True    True     True     True      True   True    True\n",
      "2     True    True    True     True     True      True   True    True\n",
      "3     True    True    True     True     True      True   True    True\n",
      "4     True    True    True     True     True      True   True    True\n"
     ]
    }
   ],
   "source": [
    "pred_res = dtc.predict(x_encoded)\n",
    "comparison = pred_res == y_encoded\n",
    "print(comparison.head())"
   ]
  },
  {
   "cell_type": "code",
   "execution_count": 37,
   "id": "1d3d524d",
   "metadata": {},
   "outputs": [
    {
     "data": {
      "text/plain": [
       "Index([], dtype='int64')"
      ]
     },
     "execution_count": 37,
     "metadata": {},
     "output_type": "execute_result"
    }
   ],
   "source": [
    "# It can be observed that every mushroom was correctly classified\n",
    "failed_classifications = comparison[(comparison[\"nvppsnt\"] == False) |\n",
    "           (comparison[\"nvppst\"] == False) |\n",
    "           (comparison[\"vppsnt\"] == False) |\n",
    "           (comparison[\"nvpnpst\"] == False) |\n",
    "          (comparison[\"vpnpsnt\"] == False) |\n",
    "            (comparison[\"nvpnpsnt\"] == False) |\n",
    "            (comparison[\"vppst\"] == False) |\n",
    "            (comparison[\"vpnpst\"] == False)].index\n",
    "failed_classifications"
   ]
  },
  {
   "cell_type": "code",
   "execution_count": 38,
   "id": "17f96924",
   "metadata": {},
   "outputs": [
    {
     "data": {
      "text/html": [
       "<div>\n",
       "<style scoped>\n",
       "    .dataframe tbody tr th:only-of-type {\n",
       "        vertical-align: middle;\n",
       "    }\n",
       "\n",
       "    .dataframe tbody tr th {\n",
       "        vertical-align: top;\n",
       "    }\n",
       "\n",
       "    .dataframe thead th {\n",
       "        text-align: right;\n",
       "    }\n",
       "</style>\n",
       "<table border=\"1\" class=\"dataframe\">\n",
       "  <thead>\n",
       "    <tr style=\"text-align: right;\">\n",
       "      <th></th>\n",
       "      <th>poisonous</th>\n",
       "      <th>cap-shape</th>\n",
       "      <th>cap-surface</th>\n",
       "      <th>cap-color</th>\n",
       "      <th>bruises</th>\n",
       "      <th>odor</th>\n",
       "      <th>gill-attachment</th>\n",
       "      <th>gill-spacing</th>\n",
       "      <th>gill-size</th>\n",
       "      <th>gill-color</th>\n",
       "      <th>...</th>\n",
       "      <th>stalk-surface-below-ring</th>\n",
       "      <th>stalk-color-above-ring</th>\n",
       "      <th>stalk-color-below-ring</th>\n",
       "      <th>veil-type</th>\n",
       "      <th>veil-color</th>\n",
       "      <th>ring-number</th>\n",
       "      <th>ring-type</th>\n",
       "      <th>spore-print-color</th>\n",
       "      <th>population</th>\n",
       "      <th>habitat</th>\n",
       "    </tr>\n",
       "  </thead>\n",
       "  <tbody>\n",
       "  </tbody>\n",
       "</table>\n",
       "<p>0 rows × 23 columns</p>\n",
       "</div>"
      ],
      "text/plain": [
       "Empty DataFrame\n",
       "Columns: [poisonous, cap-shape, cap-surface, cap-color, bruises, odor, gill-attachment, gill-spacing, gill-size, gill-color, stalk-shape, stalk-root, stalk-surface-above-ring, stalk-surface-below-ring, stalk-color-above-ring, stalk-color-below-ring, veil-type, veil-color, ring-number, ring-type, spore-print-color, population, habitat]\n",
       "Index: []\n",
       "\n",
       "[0 rows x 23 columns]"
      ]
     },
     "execution_count": 38,
     "metadata": {},
     "output_type": "execute_result"
    }
   ],
   "source": [
    "data.loc[failed_classifications]"
   ]
  },
  {
   "cell_type": "code",
   "execution_count": 39,
   "id": "6900d290",
   "metadata": {},
   "outputs": [
    {
     "data": {
      "text/html": [
       "<div>\n",
       "<style scoped>\n",
       "    .dataframe tbody tr th:only-of-type {\n",
       "        vertical-align: middle;\n",
       "    }\n",
       "\n",
       "    .dataframe tbody tr th {\n",
       "        vertical-align: top;\n",
       "    }\n",
       "\n",
       "    .dataframe thead th {\n",
       "        text-align: right;\n",
       "    }\n",
       "</style>\n",
       "<table border=\"1\" class=\"dataframe\">\n",
       "  <thead>\n",
       "    <tr style=\"text-align: right;\">\n",
       "      <th></th>\n",
       "      <th>0</th>\n",
       "      <th>1</th>\n",
       "      <th>2</th>\n",
       "      <th>3</th>\n",
       "      <th>4</th>\n",
       "      <th>5</th>\n",
       "      <th>6</th>\n",
       "      <th>7</th>\n",
       "    </tr>\n",
       "  </thead>\n",
       "  <tbody>\n",
       "  </tbody>\n",
       "</table>\n",
       "</div>"
      ],
      "text/plain": [
       "Empty DataFrame\n",
       "Columns: [0, 1, 2, 3, 4, 5, 6, 7]\n",
       "Index: []"
      ]
     },
     "execution_count": 39,
     "metadata": {},
     "output_type": "execute_result"
    }
   ],
   "source": [
    "act_res = pd.DataFrame(data=pred_res)\n",
    "act_res.loc[failed_classifications]"
   ]
  },
  {
   "cell_type": "code",
   "execution_count": 40,
   "id": "01d86e6a",
   "metadata": {},
   "outputs": [
    {
     "data": {
      "text/html": [
       "<div>\n",
       "<style scoped>\n",
       "    .dataframe tbody tr th:only-of-type {\n",
       "        vertical-align: middle;\n",
       "    }\n",
       "\n",
       "    .dataframe tbody tr th {\n",
       "        vertical-align: top;\n",
       "    }\n",
       "\n",
       "    .dataframe thead th {\n",
       "        text-align: right;\n",
       "    }\n",
       "</style>\n",
       "<table border=\"1\" class=\"dataframe\">\n",
       "  <thead>\n",
       "    <tr style=\"text-align: right;\">\n",
       "      <th></th>\n",
       "      <th>nvppsnt</th>\n",
       "      <th>nvppst</th>\n",
       "      <th>vppsnt</th>\n",
       "      <th>nvpnpst</th>\n",
       "      <th>vpnpsnt</th>\n",
       "      <th>nvpnpsnt</th>\n",
       "      <th>vppst</th>\n",
       "      <th>vpnpst</th>\n",
       "    </tr>\n",
       "  </thead>\n",
       "  <tbody>\n",
       "  </tbody>\n",
       "</table>\n",
       "</div>"
      ],
      "text/plain": [
       "Empty DataFrame\n",
       "Columns: [nvppsnt, nvppst, vppsnt, nvpnpst, vpnpsnt, nvpnpsnt, vppst, vpnpst]\n",
       "Index: []"
      ]
     },
     "execution_count": 40,
     "metadata": {},
     "output_type": "execute_result"
    }
   ],
   "source": [
    "y_encoded.loc[failed_classifications]"
   ]
  },
  {
   "cell_type": "markdown",
   "id": "de38eeed",
   "metadata": {},
   "source": [
    "## Logistic Regression"
   ]
  },
  {
   "cell_type": "code",
   "execution_count": 41,
   "id": "95a7f81e",
   "metadata": {},
   "outputs": [],
   "source": [
    "logreg = LogisticRegression(multi_class='multinomial', solver='lbfgs', max_iter=1000)"
   ]
  },
  {
   "cell_type": "code",
   "execution_count": 42,
   "id": "21673f8a",
   "metadata": {},
   "outputs": [
    {
     "data": {
      "text/html": [
       "<style>#sk-container-id-3 {color: black;background-color: white;}#sk-container-id-3 pre{padding: 0;}#sk-container-id-3 div.sk-toggleable {background-color: white;}#sk-container-id-3 label.sk-toggleable__label {cursor: pointer;display: block;width: 100%;margin-bottom: 0;padding: 0.3em;box-sizing: border-box;text-align: center;}#sk-container-id-3 label.sk-toggleable__label-arrow:before {content: \"▸\";float: left;margin-right: 0.25em;color: #696969;}#sk-container-id-3 label.sk-toggleable__label-arrow:hover:before {color: black;}#sk-container-id-3 div.sk-estimator:hover label.sk-toggleable__label-arrow:before {color: black;}#sk-container-id-3 div.sk-toggleable__content {max-height: 0;max-width: 0;overflow: hidden;text-align: left;background-color: #f0f8ff;}#sk-container-id-3 div.sk-toggleable__content pre {margin: 0.2em;color: black;border-radius: 0.25em;background-color: #f0f8ff;}#sk-container-id-3 input.sk-toggleable__control:checked~div.sk-toggleable__content {max-height: 200px;max-width: 100%;overflow: auto;}#sk-container-id-3 input.sk-toggleable__control:checked~label.sk-toggleable__label-arrow:before {content: \"▾\";}#sk-container-id-3 div.sk-estimator input.sk-toggleable__control:checked~label.sk-toggleable__label {background-color: #d4ebff;}#sk-container-id-3 div.sk-label input.sk-toggleable__control:checked~label.sk-toggleable__label {background-color: #d4ebff;}#sk-container-id-3 input.sk-hidden--visually {border: 0;clip: rect(1px 1px 1px 1px);clip: rect(1px, 1px, 1px, 1px);height: 1px;margin: -1px;overflow: hidden;padding: 0;position: absolute;width: 1px;}#sk-container-id-3 div.sk-estimator {font-family: monospace;background-color: #f0f8ff;border: 1px dotted black;border-radius: 0.25em;box-sizing: border-box;margin-bottom: 0.5em;}#sk-container-id-3 div.sk-estimator:hover {background-color: #d4ebff;}#sk-container-id-3 div.sk-parallel-item::after {content: \"\";width: 100%;border-bottom: 1px solid gray;flex-grow: 1;}#sk-container-id-3 div.sk-label:hover label.sk-toggleable__label {background-color: #d4ebff;}#sk-container-id-3 div.sk-serial::before {content: \"\";position: absolute;border-left: 1px solid gray;box-sizing: border-box;top: 0;bottom: 0;left: 50%;z-index: 0;}#sk-container-id-3 div.sk-serial {display: flex;flex-direction: column;align-items: center;background-color: white;padding-right: 0.2em;padding-left: 0.2em;position: relative;}#sk-container-id-3 div.sk-item {position: relative;z-index: 1;}#sk-container-id-3 div.sk-parallel {display: flex;align-items: stretch;justify-content: center;background-color: white;position: relative;}#sk-container-id-3 div.sk-item::before, #sk-container-id-3 div.sk-parallel-item::before {content: \"\";position: absolute;border-left: 1px solid gray;box-sizing: border-box;top: 0;bottom: 0;left: 50%;z-index: -1;}#sk-container-id-3 div.sk-parallel-item {display: flex;flex-direction: column;z-index: 1;position: relative;background-color: white;}#sk-container-id-3 div.sk-parallel-item:first-child::after {align-self: flex-end;width: 50%;}#sk-container-id-3 div.sk-parallel-item:last-child::after {align-self: flex-start;width: 50%;}#sk-container-id-3 div.sk-parallel-item:only-child::after {width: 0;}#sk-container-id-3 div.sk-dashed-wrapped {border: 1px dashed gray;margin: 0 0.4em 0.5em 0.4em;box-sizing: border-box;padding-bottom: 0.4em;background-color: white;}#sk-container-id-3 div.sk-label label {font-family: monospace;font-weight: bold;display: inline-block;line-height: 1.2em;}#sk-container-id-3 div.sk-label-container {text-align: center;}#sk-container-id-3 div.sk-container {/* jupyter's `normalize.less` sets `[hidden] { display: none; }` but bootstrap.min.css set `[hidden] { display: none !important; }` so we also need the `!important` here to be able to override the default hidden behavior on the sphinx rendered scikit-learn.org. See: https://github.com/scikit-learn/scikit-learn/issues/21755 */display: inline-block !important;position: relative;}#sk-container-id-3 div.sk-text-repr-fallback {display: none;}</style><div id=\"sk-container-id-3\" class=\"sk-top-container\"><div class=\"sk-text-repr-fallback\"><pre>LogisticRegression(max_iter=1000, multi_class=&#x27;multinomial&#x27;)</pre><b>In a Jupyter environment, please rerun this cell to show the HTML representation or trust the notebook. <br />On GitHub, the HTML representation is unable to render, please try loading this page with nbviewer.org.</b></div><div class=\"sk-container\" hidden><div class=\"sk-item\"><div class=\"sk-estimator sk-toggleable\"><input class=\"sk-toggleable__control sk-hidden--visually\" id=\"sk-estimator-id-3\" type=\"checkbox\" checked><label for=\"sk-estimator-id-3\" class=\"sk-toggleable__label sk-toggleable__label-arrow\">LogisticRegression</label><div class=\"sk-toggleable__content\"><pre>LogisticRegression(max_iter=1000, multi_class=&#x27;multinomial&#x27;)</pre></div></div></div></div></div>"
      ],
      "text/plain": [
       "LogisticRegression(max_iter=1000, multi_class='multinomial')"
      ]
     },
     "execution_count": 42,
     "metadata": {},
     "output_type": "execute_result"
    }
   ],
   "source": [
    "y_logreg = y_encoded.idxmax(1)\n",
    "logreg.fit(x_encoded, y_logreg)"
   ]
  },
  {
   "cell_type": "code",
   "execution_count": 43,
   "id": "a13957e1",
   "metadata": {},
   "outputs": [],
   "source": [
    "pred = logreg.predict(x_encoded)"
   ]
  },
  {
   "cell_type": "code",
   "execution_count": 44,
   "id": "ee195b19",
   "metadata": {},
   "outputs": [],
   "source": [
    "comparison = pred == y_logreg\n",
    "res = pd.DataFrame()\n",
    "res[\"comparison\"] = comparison"
   ]
  },
  {
   "cell_type": "code",
   "execution_count": 45,
   "id": "383c8802",
   "metadata": {},
   "outputs": [
    {
     "data": {
      "text/plain": [
       "comparison\n",
       "True    8124\n",
       "Name: count, dtype: int64"
      ]
     },
     "execution_count": 45,
     "metadata": {},
     "output_type": "execute_result"
    }
   ],
   "source": [
    "res.comparison.value_counts()"
   ]
  },
  {
   "cell_type": "code",
   "execution_count": 46,
   "id": "72592887",
   "metadata": {},
   "outputs": [
    {
     "data": {
      "text/plain": [
       "nvppsnt    4016\n",
       "nvpnpst    2644\n",
       "nvppst     1272\n",
       "vppsnt      192\n",
       "Name: count, dtype: int64"
      ]
     },
     "execution_count": 46,
     "metadata": {},
     "output_type": "execute_result"
    }
   ],
   "source": [
    "y_logreg.value_counts()"
   ]
  },
  {
   "cell_type": "markdown",
   "id": "a24fee77",
   "metadata": {},
   "source": [
    "It can be observed that every single mushroom was correctly predicted. \n",
    "However, this is probably due to overfitting, as the model required a maximum iterations value of 1000. \n",
    "This could be investigated by splitting the data into training and testing, but that would not be data mining, which is the main purpose of this exploration. "
   ]
  },
  {
   "cell_type": "markdown",
   "id": "9315fe2b",
   "metadata": {},
   "source": [
    "## Random Forest"
   ]
  },
  {
   "cell_type": "code",
   "execution_count": 47,
   "id": "3651dc91",
   "metadata": {},
   "outputs": [],
   "source": [
    "clf = RandomForestClassifier(max_depth=10, random_state=0)"
   ]
  },
  {
   "cell_type": "code",
   "execution_count": 48,
   "id": "c77d80f5",
   "metadata": {},
   "outputs": [
    {
     "data": {
      "text/html": [
       "<style>#sk-container-id-4 {color: black;background-color: white;}#sk-container-id-4 pre{padding: 0;}#sk-container-id-4 div.sk-toggleable {background-color: white;}#sk-container-id-4 label.sk-toggleable__label {cursor: pointer;display: block;width: 100%;margin-bottom: 0;padding: 0.3em;box-sizing: border-box;text-align: center;}#sk-container-id-4 label.sk-toggleable__label-arrow:before {content: \"▸\";float: left;margin-right: 0.25em;color: #696969;}#sk-container-id-4 label.sk-toggleable__label-arrow:hover:before {color: black;}#sk-container-id-4 div.sk-estimator:hover label.sk-toggleable__label-arrow:before {color: black;}#sk-container-id-4 div.sk-toggleable__content {max-height: 0;max-width: 0;overflow: hidden;text-align: left;background-color: #f0f8ff;}#sk-container-id-4 div.sk-toggleable__content pre {margin: 0.2em;color: black;border-radius: 0.25em;background-color: #f0f8ff;}#sk-container-id-4 input.sk-toggleable__control:checked~div.sk-toggleable__content {max-height: 200px;max-width: 100%;overflow: auto;}#sk-container-id-4 input.sk-toggleable__control:checked~label.sk-toggleable__label-arrow:before {content: \"▾\";}#sk-container-id-4 div.sk-estimator input.sk-toggleable__control:checked~label.sk-toggleable__label {background-color: #d4ebff;}#sk-container-id-4 div.sk-label input.sk-toggleable__control:checked~label.sk-toggleable__label {background-color: #d4ebff;}#sk-container-id-4 input.sk-hidden--visually {border: 0;clip: rect(1px 1px 1px 1px);clip: rect(1px, 1px, 1px, 1px);height: 1px;margin: -1px;overflow: hidden;padding: 0;position: absolute;width: 1px;}#sk-container-id-4 div.sk-estimator {font-family: monospace;background-color: #f0f8ff;border: 1px dotted black;border-radius: 0.25em;box-sizing: border-box;margin-bottom: 0.5em;}#sk-container-id-4 div.sk-estimator:hover {background-color: #d4ebff;}#sk-container-id-4 div.sk-parallel-item::after {content: \"\";width: 100%;border-bottom: 1px solid gray;flex-grow: 1;}#sk-container-id-4 div.sk-label:hover label.sk-toggleable__label {background-color: #d4ebff;}#sk-container-id-4 div.sk-serial::before {content: \"\";position: absolute;border-left: 1px solid gray;box-sizing: border-box;top: 0;bottom: 0;left: 50%;z-index: 0;}#sk-container-id-4 div.sk-serial {display: flex;flex-direction: column;align-items: center;background-color: white;padding-right: 0.2em;padding-left: 0.2em;position: relative;}#sk-container-id-4 div.sk-item {position: relative;z-index: 1;}#sk-container-id-4 div.sk-parallel {display: flex;align-items: stretch;justify-content: center;background-color: white;position: relative;}#sk-container-id-4 div.sk-item::before, #sk-container-id-4 div.sk-parallel-item::before {content: \"\";position: absolute;border-left: 1px solid gray;box-sizing: border-box;top: 0;bottom: 0;left: 50%;z-index: -1;}#sk-container-id-4 div.sk-parallel-item {display: flex;flex-direction: column;z-index: 1;position: relative;background-color: white;}#sk-container-id-4 div.sk-parallel-item:first-child::after {align-self: flex-end;width: 50%;}#sk-container-id-4 div.sk-parallel-item:last-child::after {align-self: flex-start;width: 50%;}#sk-container-id-4 div.sk-parallel-item:only-child::after {width: 0;}#sk-container-id-4 div.sk-dashed-wrapped {border: 1px dashed gray;margin: 0 0.4em 0.5em 0.4em;box-sizing: border-box;padding-bottom: 0.4em;background-color: white;}#sk-container-id-4 div.sk-label label {font-family: monospace;font-weight: bold;display: inline-block;line-height: 1.2em;}#sk-container-id-4 div.sk-label-container {text-align: center;}#sk-container-id-4 div.sk-container {/* jupyter's `normalize.less` sets `[hidden] { display: none; }` but bootstrap.min.css set `[hidden] { display: none !important; }` so we also need the `!important` here to be able to override the default hidden behavior on the sphinx rendered scikit-learn.org. See: https://github.com/scikit-learn/scikit-learn/issues/21755 */display: inline-block !important;position: relative;}#sk-container-id-4 div.sk-text-repr-fallback {display: none;}</style><div id=\"sk-container-id-4\" class=\"sk-top-container\"><div class=\"sk-text-repr-fallback\"><pre>RandomForestClassifier(max_depth=10, random_state=0)</pre><b>In a Jupyter environment, please rerun this cell to show the HTML representation or trust the notebook. <br />On GitHub, the HTML representation is unable to render, please try loading this page with nbviewer.org.</b></div><div class=\"sk-container\" hidden><div class=\"sk-item\"><div class=\"sk-estimator sk-toggleable\"><input class=\"sk-toggleable__control sk-hidden--visually\" id=\"sk-estimator-id-4\" type=\"checkbox\" checked><label for=\"sk-estimator-id-4\" class=\"sk-toggleable__label sk-toggleable__label-arrow\">RandomForestClassifier</label><div class=\"sk-toggleable__content\"><pre>RandomForestClassifier(max_depth=10, random_state=0)</pre></div></div></div></div></div>"
      ],
      "text/plain": [
       "RandomForestClassifier(max_depth=10, random_state=0)"
      ]
     },
     "execution_count": 48,
     "metadata": {},
     "output_type": "execute_result"
    }
   ],
   "source": [
    "clf.fit(x_encoded, y_encoded)"
   ]
  },
  {
   "cell_type": "code",
   "execution_count": 49,
   "id": "6ba0950a",
   "metadata": {},
   "outputs": [
    {
     "name": "stdout",
     "output_type": "stream",
     "text": [
      "[[False False False ... False False False]\n",
      " [ True False False ... False False False]\n",
      " [ True False False ... False False False]\n",
      " ...\n",
      " [ True False False ... False False False]\n",
      " [False  True False ... False False False]\n",
      " [ True False False ... False False False]]\n"
     ]
    }
   ],
   "source": [
    "predicted = clf.predict(x_encoded)\n",
    "print(predicted)"
   ]
  },
  {
   "cell_type": "code",
   "execution_count": 50,
   "id": "a06603e3",
   "metadata": {},
   "outputs": [],
   "source": [
    "comparison = predicted == y_encoded"
   ]
  },
  {
   "cell_type": "code",
   "execution_count": 51,
   "id": "0c4fb8f7",
   "metadata": {},
   "outputs": [
    {
     "data": {
      "text/plain": [
       "Index([], dtype='int64')"
      ]
     },
     "execution_count": 51,
     "metadata": {},
     "output_type": "execute_result"
    }
   ],
   "source": [
    "# It can be observed that every mushroom was correctly classified\n",
    "failed_classifications = comparison[(comparison[\"nvppsnt\"] == False) |\n",
    "           (comparison[\"nvppst\"] == False) |\n",
    "           (comparison[\"vppsnt\"] == False) |\n",
    "           (comparison[\"nvpnpst\"] == False) |\n",
    "          (comparison[\"vpnpsnt\"] == False) |\n",
    "            (comparison[\"nvpnpsnt\"] == False) |\n",
    "            (comparison[\"vppst\"] == False) |\n",
    "            (comparison[\"vpnpst\"] == False)].index\n",
    "failed_classifications"
   ]
  },
  {
   "cell_type": "code",
   "execution_count": 52,
   "id": "2869146a",
   "metadata": {},
   "outputs": [
    {
     "data": {
      "text/html": [
       "<div>\n",
       "<style scoped>\n",
       "    .dataframe tbody tr th:only-of-type {\n",
       "        vertical-align: middle;\n",
       "    }\n",
       "\n",
       "    .dataframe tbody tr th {\n",
       "        vertical-align: top;\n",
       "    }\n",
       "\n",
       "    .dataframe thead th {\n",
       "        text-align: right;\n",
       "    }\n",
       "</style>\n",
       "<table border=\"1\" class=\"dataframe\">\n",
       "  <thead>\n",
       "    <tr style=\"text-align: right;\">\n",
       "      <th></th>\n",
       "      <th>nvppsnt</th>\n",
       "      <th>nvppst</th>\n",
       "      <th>vppsnt</th>\n",
       "      <th>nvpnpst</th>\n",
       "      <th>vpnpsnt</th>\n",
       "      <th>nvpnpsnt</th>\n",
       "      <th>vppst</th>\n",
       "      <th>vpnpst</th>\n",
       "    </tr>\n",
       "  </thead>\n",
       "  <tbody>\n",
       "  </tbody>\n",
       "</table>\n",
       "</div>"
      ],
      "text/plain": [
       "Empty DataFrame\n",
       "Columns: [nvppsnt, nvppst, vppsnt, nvpnpst, vpnpsnt, nvpnpsnt, vppst, vpnpst]\n",
       "Index: []"
      ]
     },
     "execution_count": 52,
     "metadata": {},
     "output_type": "execute_result"
    }
   ],
   "source": [
    "y_encoded.loc[failed_classifications]#.value_counts()"
   ]
  },
  {
   "cell_type": "code",
   "execution_count": 53,
   "id": "be9921e8",
   "metadata": {},
   "outputs": [
    {
     "name": "stdout",
     "output_type": "stream",
     "text": [
      "(0.1702742242947525, 'poisonous_p')\n",
      "(0.1591993447973365, 'odor_f')\n",
      "(0.09773135821477551, 'odor_n')\n",
      "(0.04976043279114092, 'gill-size_n')\n",
      "(0.03944957506776112, 'odor_s')\n",
      "(0.0380184776896959, 'spore-print-color_h')\n",
      "(0.03469387081352068, 'stalk-surface-above-ring_k')\n",
      "(0.034201521197993044, 'spore-print-color_w')\n",
      "(0.03131155597509796, 'odor_y')\n",
      "(0.023992935034329425, 'ring-type_l')\n",
      "(0.0224520088098572, 'ring-type_p')\n",
      "(0.01708423195774115, 'stalk-surface-below-ring_y')\n",
      "(0.016704773169197194, 'stalk-root_r')\n",
      "(0.01624006271876742, 'stalk-surface-below-ring_s')\n",
      "(0.01575454315445905, 'bruises_t')\n",
      "(0.014696124371947868, 'population_v')\n",
      "(0.01404788511209098, 'stalk-surface-above-ring_s')\n",
      "(0.013438575601606313, 'stalk-shape_t')\n",
      "(0.01334410829650737, 'odor_p')\n",
      "(0.013117411242060643, 'stalk-root_b')\n",
      "(0.012358472785354908, 'stalk-surface-below-ring_k')\n",
      "(0.01175246604532633, 'spore-print-color_n')\n",
      "(0.010325477635889068, 'stalk-root_e')\n",
      "(0.01031186778309829, 'odor_c')\n",
      "(0.008272756409826446, 'stalk-root_c')\n",
      "(0.006854751770732616, 'gill-spacing_w')\n",
      "(0.006486708295246364, 'spore-print-color_k')\n",
      "(0.006174953000141179, 'ring-number_t')\n",
      "(0.005961978210506151, 'habitat_p')\n",
      "(0.005317281838402068, 'spore-print-color_r')\n",
      "(0.005152668946688965, 'habitat_u')\n",
      "(0.004230883514037787, 'cap-color_y')\n",
      "(0.004155158405526407, 'ring-number_o')\n",
      "(0.004150914726630786, 'habitat_g')\n",
      "(0.0036498138150342857, 'population_s')\n",
      "(0.0034414204655124486, 'stalk-color-above-ring_w')\n",
      "(0.0033954820600531088, 'stalk-color-below-ring_p')\n",
      "(0.0029609853172856628, 'cap-color_w')\n",
      "(0.0027617752293591837, 'habitat_m')\n",
      "(0.0026177286614406537, 'odor_l')\n",
      "(0.0024123278855434733, 'cap-surface_y')\n",
      "(0.0023798768553486348, 'population_n')\n",
      "(0.0023627403595615983, 'cap-color_n')\n",
      "(0.002352899497471449, 'stalk-color-below-ring_w')\n",
      "(0.0021563867380884356, 'cap-surface_s')\n",
      "(0.0021562396099585866, 'stalk-color-above-ring_n')\n",
      "(0.0021060268494362197, 'cap-color_g')\n",
      "(0.0017073372743724696, 'gill-color_w')\n",
      "(0.0016929245277304869, 'population_c')\n",
      "(0.0015461805225762723, 'population_y')\n",
      "(0.0015151213039445853, 'stalk-color-below-ring_n')\n",
      "(0.0014963278448585492, 'gill-color_n')\n",
      "(0.0012839545651030934, 'stalk-color-below-ring_c')\n",
      "(0.001190960744167776, 'habitat_l')\n",
      "(0.0011238322618454316, 'gill-color_h')\n",
      "(0.0011037973883378269, 'gill-color_r')\n",
      "(0.0010832973688425062, 'cap-shape_k')\n",
      "(0.001064530898767576, 'stalk-color-below-ring_g')\n",
      "(0.0010335119994377153, 'stalk-color-above-ring_g')\n",
      "(0.0010303011418230663, 'cap-color_p')\n",
      "(0.0009741122954217879, 'ring-type_f')\n",
      "(0.0009351070627877109, 'stalk-color-above-ring_p')\n",
      "(0.0009024296315194153, 'cap-shape_f')\n",
      "(0.0008883703532430718, 'spore-print-color_u')\n",
      "(0.0007076650953809708, 'cap-shape_x')\n",
      "(0.000685174411533023, 'cap-color_e')\n",
      "(0.0006049300926734781, 'gill-color_p')\n",
      "(0.0005560579613133845, 'stalk-color-above-ring_c')\n",
      "(0.0005293214557152841, 'habitat_w')\n",
      "(0.00046298090554057584, 'stalk-color-below-ring_o')\n",
      "(0.0004553282474073222, 'odor_m')\n",
      "(0.0004492884066454275, 'gill-color_g')\n",
      "(0.00042115910140368487, 'ring-type_n')\n",
      "(0.0004044016701325602, 'stalk-color-below-ring_y')\n",
      "(0.0003730893387184953, 'gill-color_k')\n",
      "(0.00029495811631221664, 'veil-color_w')\n",
      "(0.0002345300628357867, 'gill-color_y')\n",
      "(0.0002207319847762892, 'gill-color_u')\n",
      "(0.00021645731954970108, 'stalk-surface-above-ring_y')\n",
      "(0.00019618616085592135, 'cap-surface_g')\n",
      "(0.00017692533593500836, 'cap-color_c')\n",
      "(0.00015487632527026805, 'stalk-color-above-ring_y')\n",
      "(0.00012848498795672034, 'veil-color_y')\n",
      "(0.0001083207474416675, 'cap-shape_c')\n",
      "(0.000106559499545723, 'gill-attachment_f')\n",
      "(8.084918290931025e-05, 'cap-color_u')\n",
      "(6.11469918243483e-05, 'gill-color_e')\n",
      "(1.3568946791182995e-05, 'cap-shape_s')\n",
      "(1.0543949579376689e-05, 'stalk-color-below-ring_e')\n",
      "(1.3034950330864602e-06, 'stalk-color-above-ring_e')\n",
      "(0.0, 'veil-color_o')\n",
      "(0.0, 'stalk-color-above-ring_o')\n",
      "(0.0, 'spore-print-color_y')\n",
      "(0.0, 'spore-print-color_o')\n",
      "(0.0, 'gill-color_o')\n",
      "(0.0, 'cap-color_r')\n"
     ]
    }
   ],
   "source": [
    "feature_importance = clf.feature_importances_\n",
    "feature_names = clf.feature_names_in_\n",
    "relevance = sorted(zip(feature_importance,feature_names), reverse=True)\n",
    "for f in relevance:\n",
    "    print(f)"
   ]
  },
  {
   "cell_type": "markdown",
   "id": "049acb77",
   "metadata": {},
   "source": [
    "## DBSCAN (Density-Based Spatial Clustering of Applications with Noise)"
   ]
  },
  {
   "cell_type": "code",
   "execution_count": 54,
   "id": "0a46d2b5",
   "metadata": {},
   "outputs": [],
   "source": [
    "# First, default parameters\n",
    "dbscan_model = DBSCAN(eps=2.9, min_samples=5)"
   ]
  },
  {
   "cell_type": "code",
   "execution_count": 55,
   "id": "711f6ead",
   "metadata": {},
   "outputs": [
    {
     "data": {
      "text/html": [
       "<style>#sk-container-id-5 {color: black;background-color: white;}#sk-container-id-5 pre{padding: 0;}#sk-container-id-5 div.sk-toggleable {background-color: white;}#sk-container-id-5 label.sk-toggleable__label {cursor: pointer;display: block;width: 100%;margin-bottom: 0;padding: 0.3em;box-sizing: border-box;text-align: center;}#sk-container-id-5 label.sk-toggleable__label-arrow:before {content: \"▸\";float: left;margin-right: 0.25em;color: #696969;}#sk-container-id-5 label.sk-toggleable__label-arrow:hover:before {color: black;}#sk-container-id-5 div.sk-estimator:hover label.sk-toggleable__label-arrow:before {color: black;}#sk-container-id-5 div.sk-toggleable__content {max-height: 0;max-width: 0;overflow: hidden;text-align: left;background-color: #f0f8ff;}#sk-container-id-5 div.sk-toggleable__content pre {margin: 0.2em;color: black;border-radius: 0.25em;background-color: #f0f8ff;}#sk-container-id-5 input.sk-toggleable__control:checked~div.sk-toggleable__content {max-height: 200px;max-width: 100%;overflow: auto;}#sk-container-id-5 input.sk-toggleable__control:checked~label.sk-toggleable__label-arrow:before {content: \"▾\";}#sk-container-id-5 div.sk-estimator input.sk-toggleable__control:checked~label.sk-toggleable__label {background-color: #d4ebff;}#sk-container-id-5 div.sk-label input.sk-toggleable__control:checked~label.sk-toggleable__label {background-color: #d4ebff;}#sk-container-id-5 input.sk-hidden--visually {border: 0;clip: rect(1px 1px 1px 1px);clip: rect(1px, 1px, 1px, 1px);height: 1px;margin: -1px;overflow: hidden;padding: 0;position: absolute;width: 1px;}#sk-container-id-5 div.sk-estimator {font-family: monospace;background-color: #f0f8ff;border: 1px dotted black;border-radius: 0.25em;box-sizing: border-box;margin-bottom: 0.5em;}#sk-container-id-5 div.sk-estimator:hover {background-color: #d4ebff;}#sk-container-id-5 div.sk-parallel-item::after {content: \"\";width: 100%;border-bottom: 1px solid gray;flex-grow: 1;}#sk-container-id-5 div.sk-label:hover label.sk-toggleable__label {background-color: #d4ebff;}#sk-container-id-5 div.sk-serial::before {content: \"\";position: absolute;border-left: 1px solid gray;box-sizing: border-box;top: 0;bottom: 0;left: 50%;z-index: 0;}#sk-container-id-5 div.sk-serial {display: flex;flex-direction: column;align-items: center;background-color: white;padding-right: 0.2em;padding-left: 0.2em;position: relative;}#sk-container-id-5 div.sk-item {position: relative;z-index: 1;}#sk-container-id-5 div.sk-parallel {display: flex;align-items: stretch;justify-content: center;background-color: white;position: relative;}#sk-container-id-5 div.sk-item::before, #sk-container-id-5 div.sk-parallel-item::before {content: \"\";position: absolute;border-left: 1px solid gray;box-sizing: border-box;top: 0;bottom: 0;left: 50%;z-index: -1;}#sk-container-id-5 div.sk-parallel-item {display: flex;flex-direction: column;z-index: 1;position: relative;background-color: white;}#sk-container-id-5 div.sk-parallel-item:first-child::after {align-self: flex-end;width: 50%;}#sk-container-id-5 div.sk-parallel-item:last-child::after {align-self: flex-start;width: 50%;}#sk-container-id-5 div.sk-parallel-item:only-child::after {width: 0;}#sk-container-id-5 div.sk-dashed-wrapped {border: 1px dashed gray;margin: 0 0.4em 0.5em 0.4em;box-sizing: border-box;padding-bottom: 0.4em;background-color: white;}#sk-container-id-5 div.sk-label label {font-family: monospace;font-weight: bold;display: inline-block;line-height: 1.2em;}#sk-container-id-5 div.sk-label-container {text-align: center;}#sk-container-id-5 div.sk-container {/* jupyter's `normalize.less` sets `[hidden] { display: none; }` but bootstrap.min.css set `[hidden] { display: none !important; }` so we also need the `!important` here to be able to override the default hidden behavior on the sphinx rendered scikit-learn.org. See: https://github.com/scikit-learn/scikit-learn/issues/21755 */display: inline-block !important;position: relative;}#sk-container-id-5 div.sk-text-repr-fallback {display: none;}</style><div id=\"sk-container-id-5\" class=\"sk-top-container\"><div class=\"sk-text-repr-fallback\"><pre>DBSCAN(eps=2.9)</pre><b>In a Jupyter environment, please rerun this cell to show the HTML representation or trust the notebook. <br />On GitHub, the HTML representation is unable to render, please try loading this page with nbviewer.org.</b></div><div class=\"sk-container\" hidden><div class=\"sk-item\"><div class=\"sk-estimator sk-toggleable\"><input class=\"sk-toggleable__control sk-hidden--visually\" id=\"sk-estimator-id-5\" type=\"checkbox\" checked><label for=\"sk-estimator-id-5\" class=\"sk-toggleable__label sk-toggleable__label-arrow\">DBSCAN</label><div class=\"sk-toggleable__content\"><pre>DBSCAN(eps=2.9)</pre></div></div></div></div></div>"
      ],
      "text/plain": [
       "DBSCAN(eps=2.9)"
      ]
     },
     "execution_count": 55,
     "metadata": {},
     "output_type": "execute_result"
    }
   ],
   "source": [
    "dbscan_model.fit(x_encoded)"
   ]
  },
  {
   "cell_type": "code",
   "execution_count": 56,
   "id": "59f074ca",
   "metadata": {},
   "outputs": [
    {
     "name": "stdout",
     "output_type": "stream",
     "text": [
      "res\n",
      "0    4712\n",
      "2    1808\n",
      "1    1296\n",
      "5     192\n",
      "3      48\n",
      "6      36\n",
      "8      16\n",
      "4       8\n",
      "7       8\n",
      "Name: count, dtype: int64\n"
     ]
    }
   ],
   "source": [
    "predicted = pd.DataFrame()\n",
    "predicted[\"res\"] = dbscan_model.labels_\n",
    "print(predicted.res.value_counts())"
   ]
  },
  {
   "cell_type": "code",
   "execution_count": 57,
   "id": "d8c70523",
   "metadata": {},
   "outputs": [],
   "source": [
    "pred_nvppsnt = predicted[predicted[\"res\"] == 0]\n",
    "pred_nvpnpst = predicted[predicted[\"res\"] == 2]\n",
    "pred_nvppst = predicted[predicted[\"res\"] == 1]\n",
    "pred_vppsnt = predicted[predicted[\"res\"] == 5]"
   ]
  },
  {
   "cell_type": "code",
   "execution_count": 58,
   "id": "dabe1f0c",
   "metadata": {},
   "outputs": [
    {
     "data": {
      "text/plain": [
       "Index([], dtype='int64')"
      ]
     },
     "execution_count": 58,
     "metadata": {},
     "output_type": "execute_result"
    }
   ],
   "source": [
    "pred_nvppsnt.index.difference(y_encoded[\"nvppsnt\"].index)"
   ]
  },
  {
   "cell_type": "code",
   "execution_count": 59,
   "id": "4d5f89b7",
   "metadata": {},
   "outputs": [
    {
     "data": {
      "text/plain": [
       "Index([1816, 2128, 2178, 2238, 2385, 2443, 2533, 2536, 2539, 2566,\n",
       "       ...\n",
       "       8114, 8115, 8116, 8117, 8118, 8119, 8120, 8121, 8122, 8123],\n",
       "      dtype='int64', length=3412)"
      ]
     },
     "execution_count": 59,
     "metadata": {},
     "output_type": "execute_result"
    }
   ],
   "source": [
    "y_encoded[\"nvppsnt\"].index.difference(pred_nvppsnt.index)"
   ]
  },
  {
   "cell_type": "markdown",
   "id": "363a80dc",
   "metadata": {},
   "source": [
    "It can be observed that with an unsupervised clustering algorithm, the errors were too large. \n",
    "However, another unsupervised algorithm may work correctly"
   ]
  },
  {
   "cell_type": "markdown",
   "id": "b4bcfe83",
   "metadata": {},
   "source": [
    "## K-means"
   ]
  },
  {
   "cell_type": "code",
   "execution_count": 60,
   "id": "7a99f316",
   "metadata": {},
   "outputs": [],
   "source": [
    "kmeans_model = KMeans(n_clusters=4, random_state=0, n_init=\"auto\")"
   ]
  },
  {
   "cell_type": "code",
   "execution_count": 61,
   "id": "46edccbd",
   "metadata": {},
   "outputs": [
    {
     "data": {
      "text/html": [
       "<style>#sk-container-id-6 {color: black;background-color: white;}#sk-container-id-6 pre{padding: 0;}#sk-container-id-6 div.sk-toggleable {background-color: white;}#sk-container-id-6 label.sk-toggleable__label {cursor: pointer;display: block;width: 100%;margin-bottom: 0;padding: 0.3em;box-sizing: border-box;text-align: center;}#sk-container-id-6 label.sk-toggleable__label-arrow:before {content: \"▸\";float: left;margin-right: 0.25em;color: #696969;}#sk-container-id-6 label.sk-toggleable__label-arrow:hover:before {color: black;}#sk-container-id-6 div.sk-estimator:hover label.sk-toggleable__label-arrow:before {color: black;}#sk-container-id-6 div.sk-toggleable__content {max-height: 0;max-width: 0;overflow: hidden;text-align: left;background-color: #f0f8ff;}#sk-container-id-6 div.sk-toggleable__content pre {margin: 0.2em;color: black;border-radius: 0.25em;background-color: #f0f8ff;}#sk-container-id-6 input.sk-toggleable__control:checked~div.sk-toggleable__content {max-height: 200px;max-width: 100%;overflow: auto;}#sk-container-id-6 input.sk-toggleable__control:checked~label.sk-toggleable__label-arrow:before {content: \"▾\";}#sk-container-id-6 div.sk-estimator input.sk-toggleable__control:checked~label.sk-toggleable__label {background-color: #d4ebff;}#sk-container-id-6 div.sk-label input.sk-toggleable__control:checked~label.sk-toggleable__label {background-color: #d4ebff;}#sk-container-id-6 input.sk-hidden--visually {border: 0;clip: rect(1px 1px 1px 1px);clip: rect(1px, 1px, 1px, 1px);height: 1px;margin: -1px;overflow: hidden;padding: 0;position: absolute;width: 1px;}#sk-container-id-6 div.sk-estimator {font-family: monospace;background-color: #f0f8ff;border: 1px dotted black;border-radius: 0.25em;box-sizing: border-box;margin-bottom: 0.5em;}#sk-container-id-6 div.sk-estimator:hover {background-color: #d4ebff;}#sk-container-id-6 div.sk-parallel-item::after {content: \"\";width: 100%;border-bottom: 1px solid gray;flex-grow: 1;}#sk-container-id-6 div.sk-label:hover label.sk-toggleable__label {background-color: #d4ebff;}#sk-container-id-6 div.sk-serial::before {content: \"\";position: absolute;border-left: 1px solid gray;box-sizing: border-box;top: 0;bottom: 0;left: 50%;z-index: 0;}#sk-container-id-6 div.sk-serial {display: flex;flex-direction: column;align-items: center;background-color: white;padding-right: 0.2em;padding-left: 0.2em;position: relative;}#sk-container-id-6 div.sk-item {position: relative;z-index: 1;}#sk-container-id-6 div.sk-parallel {display: flex;align-items: stretch;justify-content: center;background-color: white;position: relative;}#sk-container-id-6 div.sk-item::before, #sk-container-id-6 div.sk-parallel-item::before {content: \"\";position: absolute;border-left: 1px solid gray;box-sizing: border-box;top: 0;bottom: 0;left: 50%;z-index: -1;}#sk-container-id-6 div.sk-parallel-item {display: flex;flex-direction: column;z-index: 1;position: relative;background-color: white;}#sk-container-id-6 div.sk-parallel-item:first-child::after {align-self: flex-end;width: 50%;}#sk-container-id-6 div.sk-parallel-item:last-child::after {align-self: flex-start;width: 50%;}#sk-container-id-6 div.sk-parallel-item:only-child::after {width: 0;}#sk-container-id-6 div.sk-dashed-wrapped {border: 1px dashed gray;margin: 0 0.4em 0.5em 0.4em;box-sizing: border-box;padding-bottom: 0.4em;background-color: white;}#sk-container-id-6 div.sk-label label {font-family: monospace;font-weight: bold;display: inline-block;line-height: 1.2em;}#sk-container-id-6 div.sk-label-container {text-align: center;}#sk-container-id-6 div.sk-container {/* jupyter's `normalize.less` sets `[hidden] { display: none; }` but bootstrap.min.css set `[hidden] { display: none !important; }` so we also need the `!important` here to be able to override the default hidden behavior on the sphinx rendered scikit-learn.org. See: https://github.com/scikit-learn/scikit-learn/issues/21755 */display: inline-block !important;position: relative;}#sk-container-id-6 div.sk-text-repr-fallback {display: none;}</style><div id=\"sk-container-id-6\" class=\"sk-top-container\"><div class=\"sk-text-repr-fallback\"><pre>KMeans(n_clusters=4, n_init=&#x27;auto&#x27;, random_state=0)</pre><b>In a Jupyter environment, please rerun this cell to show the HTML representation or trust the notebook. <br />On GitHub, the HTML representation is unable to render, please try loading this page with nbviewer.org.</b></div><div class=\"sk-container\" hidden><div class=\"sk-item\"><div class=\"sk-estimator sk-toggleable\"><input class=\"sk-toggleable__control sk-hidden--visually\" id=\"sk-estimator-id-6\" type=\"checkbox\" checked><label for=\"sk-estimator-id-6\" class=\"sk-toggleable__label sk-toggleable__label-arrow\">KMeans</label><div class=\"sk-toggleable__content\"><pre>KMeans(n_clusters=4, n_init=&#x27;auto&#x27;, random_state=0)</pre></div></div></div></div></div>"
      ],
      "text/plain": [
       "KMeans(n_clusters=4, n_init='auto', random_state=0)"
      ]
     },
     "execution_count": 61,
     "metadata": {},
     "output_type": "execute_result"
    }
   ],
   "source": [
    "kmeans_model.fit(x_encoded)"
   ]
  },
  {
   "cell_type": "code",
   "execution_count": 62,
   "id": "6d09d617",
   "metadata": {},
   "outputs": [
    {
     "name": "stdout",
     "output_type": "stream",
     "text": [
      "res\n",
      "3    3053\n",
      "0    1940\n",
      "1    1835\n",
      "2    1296\n",
      "Name: count, dtype: int64\n"
     ]
    }
   ],
   "source": [
    "predicted = pd.DataFrame()\n",
    "predicted[\"res\"] = kmeans_model.predict(x_encoded)\n",
    "print(predicted.res.value_counts())"
   ]
  },
  {
   "cell_type": "code",
   "execution_count": 63,
   "id": "3592c895",
   "metadata": {},
   "outputs": [
    {
     "data": {
      "text/html": [
       "<div>\n",
       "<style scoped>\n",
       "    .dataframe tbody tr th:only-of-type {\n",
       "        vertical-align: middle;\n",
       "    }\n",
       "\n",
       "    .dataframe tbody tr th {\n",
       "        vertical-align: top;\n",
       "    }\n",
       "\n",
       "    .dataframe thead th {\n",
       "        text-align: right;\n",
       "    }\n",
       "</style>\n",
       "<table border=\"1\" class=\"dataframe\">\n",
       "  <thead>\n",
       "    <tr style=\"text-align: right;\">\n",
       "      <th></th>\n",
       "      <th>poisonous</th>\n",
       "      <th>cap-shape</th>\n",
       "      <th>cap-surface</th>\n",
       "      <th>cap-color</th>\n",
       "      <th>bruises</th>\n",
       "      <th>odor</th>\n",
       "      <th>gill-attachment</th>\n",
       "      <th>gill-spacing</th>\n",
       "      <th>gill-size</th>\n",
       "      <th>gill-color</th>\n",
       "      <th>...</th>\n",
       "      <th>stalk-surface-below-ring</th>\n",
       "      <th>stalk-color-above-ring</th>\n",
       "      <th>stalk-color-below-ring</th>\n",
       "      <th>veil-type</th>\n",
       "      <th>veil-color</th>\n",
       "      <th>ring-number</th>\n",
       "      <th>ring-type</th>\n",
       "      <th>spore-print-color</th>\n",
       "      <th>population</th>\n",
       "      <th>habitat</th>\n",
       "    </tr>\n",
       "  </thead>\n",
       "  <tbody>\n",
       "    <tr>\n",
       "      <th>0</th>\n",
       "      <td>p</td>\n",
       "      <td>x</td>\n",
       "      <td>s</td>\n",
       "      <td>n</td>\n",
       "      <td>t</td>\n",
       "      <td>p</td>\n",
       "      <td>f</td>\n",
       "      <td>c</td>\n",
       "      <td>n</td>\n",
       "      <td>k</td>\n",
       "      <td>...</td>\n",
       "      <td>s</td>\n",
       "      <td>w</td>\n",
       "      <td>w</td>\n",
       "      <td>p</td>\n",
       "      <td>w</td>\n",
       "      <td>o</td>\n",
       "      <td>p</td>\n",
       "      <td>k</td>\n",
       "      <td>s</td>\n",
       "      <td>u</td>\n",
       "    </tr>\n",
       "    <tr>\n",
       "      <th>1</th>\n",
       "      <td>e</td>\n",
       "      <td>x</td>\n",
       "      <td>s</td>\n",
       "      <td>y</td>\n",
       "      <td>t</td>\n",
       "      <td>a</td>\n",
       "      <td>f</td>\n",
       "      <td>c</td>\n",
       "      <td>b</td>\n",
       "      <td>k</td>\n",
       "      <td>...</td>\n",
       "      <td>s</td>\n",
       "      <td>w</td>\n",
       "      <td>w</td>\n",
       "      <td>p</td>\n",
       "      <td>w</td>\n",
       "      <td>o</td>\n",
       "      <td>p</td>\n",
       "      <td>n</td>\n",
       "      <td>n</td>\n",
       "      <td>g</td>\n",
       "    </tr>\n",
       "    <tr>\n",
       "      <th>2</th>\n",
       "      <td>e</td>\n",
       "      <td>b</td>\n",
       "      <td>s</td>\n",
       "      <td>w</td>\n",
       "      <td>t</td>\n",
       "      <td>l</td>\n",
       "      <td>f</td>\n",
       "      <td>c</td>\n",
       "      <td>b</td>\n",
       "      <td>n</td>\n",
       "      <td>...</td>\n",
       "      <td>s</td>\n",
       "      <td>w</td>\n",
       "      <td>w</td>\n",
       "      <td>p</td>\n",
       "      <td>w</td>\n",
       "      <td>o</td>\n",
       "      <td>p</td>\n",
       "      <td>n</td>\n",
       "      <td>n</td>\n",
       "      <td>m</td>\n",
       "    </tr>\n",
       "    <tr>\n",
       "      <th>3</th>\n",
       "      <td>p</td>\n",
       "      <td>x</td>\n",
       "      <td>y</td>\n",
       "      <td>w</td>\n",
       "      <td>t</td>\n",
       "      <td>p</td>\n",
       "      <td>f</td>\n",
       "      <td>c</td>\n",
       "      <td>n</td>\n",
       "      <td>n</td>\n",
       "      <td>...</td>\n",
       "      <td>s</td>\n",
       "      <td>w</td>\n",
       "      <td>w</td>\n",
       "      <td>p</td>\n",
       "      <td>w</td>\n",
       "      <td>o</td>\n",
       "      <td>p</td>\n",
       "      <td>k</td>\n",
       "      <td>s</td>\n",
       "      <td>u</td>\n",
       "    </tr>\n",
       "    <tr>\n",
       "      <th>4</th>\n",
       "      <td>e</td>\n",
       "      <td>x</td>\n",
       "      <td>s</td>\n",
       "      <td>g</td>\n",
       "      <td>f</td>\n",
       "      <td>n</td>\n",
       "      <td>f</td>\n",
       "      <td>w</td>\n",
       "      <td>b</td>\n",
       "      <td>k</td>\n",
       "      <td>...</td>\n",
       "      <td>s</td>\n",
       "      <td>w</td>\n",
       "      <td>w</td>\n",
       "      <td>p</td>\n",
       "      <td>w</td>\n",
       "      <td>o</td>\n",
       "      <td>e</td>\n",
       "      <td>n</td>\n",
       "      <td>a</td>\n",
       "      <td>g</td>\n",
       "    </tr>\n",
       "    <tr>\n",
       "      <th>...</th>\n",
       "      <td>...</td>\n",
       "      <td>...</td>\n",
       "      <td>...</td>\n",
       "      <td>...</td>\n",
       "      <td>...</td>\n",
       "      <td>...</td>\n",
       "      <td>...</td>\n",
       "      <td>...</td>\n",
       "      <td>...</td>\n",
       "      <td>...</td>\n",
       "      <td>...</td>\n",
       "      <td>...</td>\n",
       "      <td>...</td>\n",
       "      <td>...</td>\n",
       "      <td>...</td>\n",
       "      <td>...</td>\n",
       "      <td>...</td>\n",
       "      <td>...</td>\n",
       "      <td>...</td>\n",
       "      <td>...</td>\n",
       "      <td>...</td>\n",
       "    </tr>\n",
       "    <tr>\n",
       "      <th>8094</th>\n",
       "      <td>e</td>\n",
       "      <td>b</td>\n",
       "      <td>s</td>\n",
       "      <td>g</td>\n",
       "      <td>f</td>\n",
       "      <td>n</td>\n",
       "      <td>f</td>\n",
       "      <td>w</td>\n",
       "      <td>b</td>\n",
       "      <td>g</td>\n",
       "      <td>...</td>\n",
       "      <td>s</td>\n",
       "      <td>w</td>\n",
       "      <td>w</td>\n",
       "      <td>p</td>\n",
       "      <td>w</td>\n",
       "      <td>t</td>\n",
       "      <td>p</td>\n",
       "      <td>w</td>\n",
       "      <td>n</td>\n",
       "      <td>g</td>\n",
       "    </tr>\n",
       "    <tr>\n",
       "      <th>8096</th>\n",
       "      <td>e</td>\n",
       "      <td>k</td>\n",
       "      <td>f</td>\n",
       "      <td>w</td>\n",
       "      <td>f</td>\n",
       "      <td>n</td>\n",
       "      <td>f</td>\n",
       "      <td>w</td>\n",
       "      <td>b</td>\n",
       "      <td>w</td>\n",
       "      <td>...</td>\n",
       "      <td>s</td>\n",
       "      <td>w</td>\n",
       "      <td>w</td>\n",
       "      <td>p</td>\n",
       "      <td>w</td>\n",
       "      <td>t</td>\n",
       "      <td>p</td>\n",
       "      <td>w</td>\n",
       "      <td>n</td>\n",
       "      <td>g</td>\n",
       "    </tr>\n",
       "    <tr>\n",
       "      <th>8099</th>\n",
       "      <td>e</td>\n",
       "      <td>k</td>\n",
       "      <td>f</td>\n",
       "      <td>w</td>\n",
       "      <td>f</td>\n",
       "      <td>n</td>\n",
       "      <td>f</td>\n",
       "      <td>w</td>\n",
       "      <td>b</td>\n",
       "      <td>w</td>\n",
       "      <td>...</td>\n",
       "      <td>k</td>\n",
       "      <td>w</td>\n",
       "      <td>w</td>\n",
       "      <td>p</td>\n",
       "      <td>w</td>\n",
       "      <td>t</td>\n",
       "      <td>p</td>\n",
       "      <td>w</td>\n",
       "      <td>s</td>\n",
       "      <td>g</td>\n",
       "    </tr>\n",
       "    <tr>\n",
       "      <th>8109</th>\n",
       "      <td>e</td>\n",
       "      <td>b</td>\n",
       "      <td>s</td>\n",
       "      <td>w</td>\n",
       "      <td>f</td>\n",
       "      <td>n</td>\n",
       "      <td>f</td>\n",
       "      <td>w</td>\n",
       "      <td>b</td>\n",
       "      <td>w</td>\n",
       "      <td>...</td>\n",
       "      <td>s</td>\n",
       "      <td>w</td>\n",
       "      <td>w</td>\n",
       "      <td>p</td>\n",
       "      <td>w</td>\n",
       "      <td>t</td>\n",
       "      <td>p</td>\n",
       "      <td>w</td>\n",
       "      <td>n</td>\n",
       "      <td>g</td>\n",
       "    </tr>\n",
       "    <tr>\n",
       "      <th>8111</th>\n",
       "      <td>e</td>\n",
       "      <td>k</td>\n",
       "      <td>s</td>\n",
       "      <td>w</td>\n",
       "      <td>f</td>\n",
       "      <td>n</td>\n",
       "      <td>f</td>\n",
       "      <td>w</td>\n",
       "      <td>b</td>\n",
       "      <td>p</td>\n",
       "      <td>...</td>\n",
       "      <td>s</td>\n",
       "      <td>w</td>\n",
       "      <td>w</td>\n",
       "      <td>p</td>\n",
       "      <td>w</td>\n",
       "      <td>t</td>\n",
       "      <td>p</td>\n",
       "      <td>w</td>\n",
       "      <td>n</td>\n",
       "      <td>g</td>\n",
       "    </tr>\n",
       "  </tbody>\n",
       "</table>\n",
       "<p>3053 rows × 23 columns</p>\n",
       "</div>"
      ],
      "text/plain": [
       "     poisonous cap-shape cap-surface cap-color bruises odor gill-attachment  \\\n",
       "0            p         x           s         n       t    p               f   \n",
       "1            e         x           s         y       t    a               f   \n",
       "2            e         b           s         w       t    l               f   \n",
       "3            p         x           y         w       t    p               f   \n",
       "4            e         x           s         g       f    n               f   \n",
       "...        ...       ...         ...       ...     ...  ...             ...   \n",
       "8094         e         b           s         g       f    n               f   \n",
       "8096         e         k           f         w       f    n               f   \n",
       "8099         e         k           f         w       f    n               f   \n",
       "8109         e         b           s         w       f    n               f   \n",
       "8111         e         k           s         w       f    n               f   \n",
       "\n",
       "     gill-spacing gill-size gill-color  ... stalk-surface-below-ring  \\\n",
       "0               c         n          k  ...                        s   \n",
       "1               c         b          k  ...                        s   \n",
       "2               c         b          n  ...                        s   \n",
       "3               c         n          n  ...                        s   \n",
       "4               w         b          k  ...                        s   \n",
       "...           ...       ...        ...  ...                      ...   \n",
       "8094            w         b          g  ...                        s   \n",
       "8096            w         b          w  ...                        s   \n",
       "8099            w         b          w  ...                        k   \n",
       "8109            w         b          w  ...                        s   \n",
       "8111            w         b          p  ...                        s   \n",
       "\n",
       "     stalk-color-above-ring stalk-color-below-ring veil-type veil-color  \\\n",
       "0                         w                      w         p          w   \n",
       "1                         w                      w         p          w   \n",
       "2                         w                      w         p          w   \n",
       "3                         w                      w         p          w   \n",
       "4                         w                      w         p          w   \n",
       "...                     ...                    ...       ...        ...   \n",
       "8094                      w                      w         p          w   \n",
       "8096                      w                      w         p          w   \n",
       "8099                      w                      w         p          w   \n",
       "8109                      w                      w         p          w   \n",
       "8111                      w                      w         p          w   \n",
       "\n",
       "     ring-number ring-type spore-print-color population habitat  \n",
       "0              o         p                 k          s       u  \n",
       "1              o         p                 n          n       g  \n",
       "2              o         p                 n          n       m  \n",
       "3              o         p                 k          s       u  \n",
       "4              o         e                 n          a       g  \n",
       "...          ...       ...               ...        ...     ...  \n",
       "8094           t         p                 w          n       g  \n",
       "8096           t         p                 w          n       g  \n",
       "8099           t         p                 w          s       g  \n",
       "8109           t         p                 w          n       g  \n",
       "8111           t         p                 w          n       g  \n",
       "\n",
       "[3053 rows x 23 columns]"
      ]
     },
     "execution_count": 63,
     "metadata": {},
     "output_type": "execute_result"
    }
   ],
   "source": [
    "data[predicted[\"res\"] == 3]"
   ]
  },
  {
   "cell_type": "markdown",
   "id": "70fa94c0",
   "metadata": {},
   "source": [
    "Once again, it can be observed that the unsupervised algorithm did not perform the classification as expected, as it mixed different types of mushrooms, such as including both poisonous and not poisonous mushrooms, including both nice smelling and not nice smelling mushrooms, etc. "
   ]
  },
  {
   "cell_type": "markdown",
   "id": "ef484c72",
   "metadata": {},
   "source": [
    "https://datascienceplus.com/mushrooms-classification-part-1/\n",
    "https://datascienceplus.com/mushrooms-classification-part-2/\n",
    "https://datarepository.wolframcloud.com/resources/Sample-Data-Mushroom-Classification\n",
    "https://data-flair.training/blogs/machine-learning-classification-algorithms/\n",
    "https://archive.ics.uci.edu/dataset/73/mushroom\n",
    "https://12ft.io/\n"
   ]
  }
 ],
 "metadata": {
  "kernelspec": {
   "display_name": "Python 3 (ipykernel)",
   "language": "python",
   "name": "python3"
  },
  "language_info": {
   "codemirror_mode": {
    "name": "ipython",
    "version": 3
   },
   "file_extension": ".py",
   "mimetype": "text/x-python",
   "name": "python",
   "nbconvert_exporter": "python",
   "pygments_lexer": "ipython3",
   "version": "3.10.6"
  }
 },
 "nbformat": 4,
 "nbformat_minor": 5
}
